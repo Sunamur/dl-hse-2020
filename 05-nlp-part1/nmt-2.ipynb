{
 "cells": [
  {
   "cell_type": "markdown",
   "metadata": {
    "colab_type": "text",
    "id": "unztjWmQEQk_"
   },
   "source": [
    "# NLP: seq2seq nmt\n",
    "\n",
    "[![Open In Colab](https://colab.research.google.com/assets/colab-badge.svg)](https://colab.research.google.com/github/m12sl/dl-hse-2020/blob/master/05-nlp-part1/NMT.ipynb)\n",
    "\n",
    "\n",
    "**Цели тетрадки**\n",
    "\n",
    "1. Познакомиться с подготовкой текстовых данных\n",
    "1. Освоить работу с RNN\n",
    "1. Натренировать модель для перевода `en-->ru`.\n",
    "\n",
    "**План**\n",
    "\n",
    "1. Написать несколько функций для подготовки данных\n",
    "1. Написать проход декодера и тренировочный цикл\n",
    "1. Натренировать сеть и попробовать ее в деле.\n",
    "\n",
    "\n",
    "**Настоятельно рекомендуется воспользоваться колабом**"
   ]
  },
  {
   "cell_type": "code",
   "execution_count": null,
   "metadata": {
    "colab": {},
    "colab_type": "code",
    "id": "0hUc8aEg8S2_"
   },
   "outputs": [],
   "source": [
    "%matplotlib inline\n",
    "from collections import Counter\n",
    "import unicodedata\n",
    "import re\n",
    "import string\n",
    "\n",
    "import matplotlib.pyplot as plt\n",
    "import numpy as np\n",
    "import torch\n",
    "from torch import nn\n",
    "from torch.nn import functional as F\n",
    "from torch.utils.data import Dataset, DataLoader\n",
    "from tqdm.auto import tqdm\n",
    "from collections import defaultdict\n",
    "from IPython.display import clear_output"
   ]
  },
  {
   "cell_type": "markdown",
   "metadata": {
    "colab_type": "text",
    "id": "AGM9wKXAEQlE"
   },
   "source": [
    "# Датасет\n",
    "\n",
    "Датасет взят с сайта открытого проекта tatoeba.\n",
    "**TODO: check it!**\n"
   ]
  },
  {
   "cell_type": "code",
   "execution_count": 2,
   "metadata": {
    "colab": {
     "base_uri": "https://localhost:8080/",
     "height": 323
    },
    "colab_type": "code",
    "executionInfo": {
     "elapsed": 11669,
     "status": "ok",
     "timestamp": 1586193633190,
     "user": {
      "displayName": "Леонид Шерстюк",
      "photoUrl": "",
      "userId": "02369709252733473830"
     },
     "user_tz": -180
    },
    "id": "Au270_eo8T7b",
    "outputId": "f967937b-910f-4ad8-e7fa-e86816d06452"
   },
   "outputs": [
    {
     "name": "stdout",
     "output_type": "stream",
     "text": [
      "--2020-04-06 17:20:27--  https://github.com/m12sl/dl_cshse_2019/raw/master/seminars/x2seq/eng-rus.tar.gz\n",
      "Resolving github.com (github.com)... 192.30.255.113\n",
      "Connecting to github.com (github.com)|192.30.255.113|:443... connected.\n",
      "HTTP request sent, awaiting response... 302 Found\n",
      "Location: https://raw.githubusercontent.com/m12sl/dl_cshse_2019/master/seminars/x2seq/eng-rus.tar.gz [following]\n",
      "--2020-04-06 17:20:28--  https://raw.githubusercontent.com/m12sl/dl_cshse_2019/master/seminars/x2seq/eng-rus.tar.gz\n",
      "Resolving raw.githubusercontent.com (raw.githubusercontent.com)... 151.101.0.133, 151.101.64.133, 151.101.128.133, ...\n",
      "Connecting to raw.githubusercontent.com (raw.githubusercontent.com)|151.101.0.133|:443... connected.\n",
      "HTTP request sent, awaiting response... 200 OK\n",
      "Length: 7020408 (6.7M) [application/octet-stream]\n",
      "Saving to: ‘eng-rus.tar.gz’\n",
      "\n",
      "eng-rus.tar.gz      100%[===================>]   6.69M  --.-KB/s    in 0.03s   \n",
      "\n",
      "2020-04-06 17:20:28 (201 MB/s) - ‘eng-rus.tar.gz’ saved [7020408/7020408]\n",
      "\n",
      "eng-rus.txt\n"
     ]
    }
   ],
   "source": [
    "! wget https://github.com/m12sl/dl_cshse_2019/raw/master/seminars/x2seq/eng-rus.tar.gz\n",
    "! tar xzvf eng-rus.tar.gz"
   ]
  },
  {
   "cell_type": "markdown",
   "metadata": {
    "colab_type": "text",
    "id": "qdM5tBYV8S3J"
   },
   "source": [
    "## Наивный вариант представления текстов\n",
    "\n",
    "0. Нормализовать написание\n",
    "1. Отфильтруем все спецсимволы\n",
    "2. Разобьем по пробелам, сделаем *наивную токенизацию*"
   ]
  },
  {
   "cell_type": "code",
   "execution_count": 3,
   "metadata": {
    "colab": {
     "base_uri": "https://localhost:8080/",
     "height": 157,
     "referenced_widgets": [
      "758279ed833b4622b89abd2c96548651",
      "8fdc570d171f4b06855e8228601823a5",
      "3e7221d22ccb464e82418c47b760d924",
      "4fa9db78a0104e7283004d8860dfbff5",
      "e6767cabf6b546f48eed721b53e0f454",
      "c584758deda2486db9bbafdafa48f2a2",
      "d7fa83d9e3714d2cb172643cc06c6016",
      "a8a11037ca7842a29f0766f1167d632b"
     ]
    },
    "colab_type": "code",
    "executionInfo": {
     "elapsed": 22501,
     "status": "ok",
     "timestamp": 1586193644033,
     "user": {
      "displayName": "Леонид Шерстюк",
      "photoUrl": "",
      "userId": "02369709252733473830"
     },
     "user_tz": -180
    },
    "id": "qSYbvPOW8S3L",
    "outputId": "0deb4557-0f61-4925-a957-25f5c8376458"
   },
   "outputs": [
    {
     "data": {
      "application/vnd.jupyter.widget-view+json": {
       "model_id": "758279ed833b4622b89abd2c96548651",
       "version_major": 2,
       "version_minor": 0
      },
      "text/plain": [
       "HBox(children=(IntProgress(value=0, max=336666), HTML(value='')))"
      ]
     },
     "metadata": {
      "tags": []
     },
     "output_type": "display_data"
    },
    {
     "name": "stdout",
     "output_type": "stream",
     "text": [
      "\n",
      "RAW alphabet 174 symbols: \n",
      " !\"$%&'()+,-./0123456789:;?@ABCDEFGHIJKLMNOPQRSTUVWXYZabcdefghijklmnopqrstuvwxyz «°º»ãçéêîïóöúǘЁАБВГДЕЖЗИЙКЛМНОПРСТУФХЦЧШЩЬЭЮЯабвгдежзийклмнопрстуфхцчшщъыьэюяёׁ​–—―‘’… ‽₂€№\n",
      "After preprocessing 62 symbols:   !,.?abcdefghijklmnopqrstuvwxyzабвгдежзиклмнопрстуфхцчшщъыьэюя\n",
      "There are 336666 pairs\n",
      "['it s too fast .', 'это слишком быстро .']\n"
     ]
    }
   ],
   "source": [
    "# Приготовим данные и посмотрим на них\n",
    "# Кроме словаря нас интересует еще набор символов\n",
    "raw_alphabet = set()\n",
    "alphabet = set()\n",
    "def normalize(s):\n",
    "    return \"\".join(c for c in unicodedata.normalize('NFD', s) if unicodedata.category(c) != 'Mn')\n",
    "\n",
    "\n",
    "def preprocess(s):\n",
    "    raw_alphabet.update(s)\n",
    "    s = normalize(s.lower().strip())\n",
    "    s = re.sub(r\"[^a-zа-я?.,!]+\", \" \", s)\n",
    "    s = re.sub(r\"([.!?])\", r\" \\1\", s)\n",
    "    alphabet.update(s)\n",
    "    return s\n",
    "\n",
    "pairs = []\n",
    "with open('eng-rus.txt', 'r') as fin:\n",
    "    for line in tqdm(fin.readlines()):\n",
    "        pair = [preprocess(_) for _ in line.split('\\t')]\n",
    "        pairs.append(pair)\n",
    "        \n",
    "print(\"RAW alphabet {} symbols:\".format(len(raw_alphabet)), \n",
    "      \"\".join(sorted(raw_alphabet)))\n",
    "print(\"After preprocessing {} symbols: \".format(len(alphabet)), \n",
    "      \"\".join(sorted(alphabet)))\n",
    "print(\"There are {} pairs\".format(len(pairs)))\n",
    "print(pairs[10000])"
   ]
  },
  {
   "cell_type": "markdown",
   "metadata": {
    "colab_type": "text",
    "id": "h9ARXr6b8S3U"
   },
   "source": [
    "Каждому слову поставим в соответсвие номер + нам потребуются спецтокены для начала и конца последовательности и для неизвестных слов.\n",
    "`<SOS>, <EOS>, <UNK>`\n",
    "\n",
    "У нас два языка, для работы с каждым нам потребуются функции для перевода из слов в номера и обратно.\n",
    "\n",
    "Предлагается реализовать эти функции как словари. Первые 4 номера отвести под специальные токены\n",
    "\n",
    "**(0.1 балл)** Реализуйте функцию построения словарей, функция принимает на вход список строк (нормализованных предложений, можно сплитить по пробелам). Организуйте словарь разумным образом так, чтобы в случае необходимости можно было выкинуть редкие слова."
   ]
  },
  {
   "cell_type": "code",
   "execution_count": null,
   "metadata": {
    "colab": {},
    "colab_type": "code",
    "id": "2epLOt_-8S3V"
   },
   "outputs": [],
   "source": [
    "COMMON_TOKENS = ['PAD', 'SOS', 'EOS', 'UNK']\n",
    "from itertools import chain\n",
    "\n",
    "def build_vocabs(sents, max_size=1000):\n",
    "    words = list(chain(*[x.split(' ') for x in sents]))\n",
    "    c=Counter(words)\n",
    "    idx2tok = dict(enumerate(COMMON_TOKENS+[x[0] for x in c.most_common(max_size-len(COMMON_TOKENS))]))\n",
    "    tok2idx = {v:k for k,v in idx2tok.items()}\n",
    "    \n",
    "    return tok2idx, idx2tok\n",
    "\n",
    "eng, rus = list(zip(*pairs))\n",
    "rus2idx, idx2rus = build_vocabs(rus, max_size=10000)\n",
    "eng2idx, idx2eng = build_vocabs(eng, max_size=5000)"
   ]
  },
  {
   "cell_type": "code",
   "execution_count": 5,
   "metadata": {
    "colab": {
     "base_uri": "https://localhost:8080/",
     "height": 89
    },
    "colab_type": "code",
    "executionInfo": {
     "elapsed": 24549,
     "status": "ok",
     "timestamp": 1586193646102,
     "user": {
      "displayName": "Леонид Шерстюк",
      "photoUrl": "",
      "userId": "02369709252733473830"
     },
     "user_tz": -180
    },
    "id": "xh5koecS8S3c",
    "outputId": "5e684046-4adf-4daf-edee-72c69350f848"
   },
   "outputs": [
    {
     "name": "stdout",
     "output_type": "stream",
     "text": [
      "[1, 2540, 1265, 83, 2]\n",
      "SOS привет мир ! EOS\n",
      "[1, 1961, 440, 175, 2]\n",
      "SOS hello world ! EOS\n"
     ]
    }
   ],
   "source": [
    "def sentence2idx(s, tok2idx):\n",
    "    tokens = preprocess(s).split(' ')\n",
    "    unk = tok2idx['UNK']\n",
    "    return [tok2idx['SOS']] + [tok2idx.get(_, unk) for _ in tokens] + [tok2idx['EOS']]\n",
    "\n",
    "\n",
    "def idx2sentence(s, idx2tok):\n",
    "    return \" \".join(idx2tok[_] for _ in s)\n",
    "\n",
    "# проверим консистентность преобразований\n",
    "x = sentence2idx('Привет мир!', rus2idx)\n",
    "print(x)\n",
    "print(idx2sentence(x, idx2rus))\n",
    "\n",
    "x = sentence2idx('Hello world!', eng2idx)\n",
    "print(x)\n",
    "print(idx2sentence(x, idx2eng))"
   ]
  },
  {
   "cell_type": "markdown",
   "metadata": {
    "colab_type": "text",
    "id": "Dhjjx52i8S3g"
   },
   "source": [
    "## Работа с последовательностями произвольной длины в pytorch\n",
    "\n",
    "Нам нужно уметь генерировать батчи тензоров `[bs, 1, seq_len]`.\n",
    "Но в нашем датасете семплы разной длины:\n",
    "\n",
    "- мы могли бы подрезать все до минимальной\n",
    "- паддить до максимальной\n",
    "- выбрать какую-то среднюю длину\n",
    "\n",
    "**(0.1 балла)** Разбейте датасет на train и validate:"
   ]
  },
  {
   "cell_type": "code",
   "execution_count": 6,
   "metadata": {
    "colab": {
     "base_uri": "https://localhost:8080/",
     "height": 67,
     "referenced_widgets": [
      "550c1cea42424c91aaa302fdb5158d3b",
      "93282beb38dd499c89cdf6a7399a2d44",
      "f165e6514fee4da6977235565c9e38d4",
      "cdb224ddacc84b7a9855da99808a61fb",
      "cb47952bb6f64e7bb2338f1ff342ad86",
      "c7cf796e94d349d0b30593c127bbc7a9",
      "352113d78fb640be8677dde16cb91fe0",
      "57707f6cc3d245de9b5a1cdf206d9f82"
     ]
    },
    "colab_type": "code",
    "executionInfo": {
     "elapsed": 105795,
     "status": "ok",
     "timestamp": 1586193727359,
     "user": {
      "displayName": "Леонид Шерстюк",
      "photoUrl": "",
      "userId": "02369709252733473830"
     },
     "user_tz": -180
    },
    "id": "kmGX7wtL8S3i",
    "outputId": "c6d9c483-a7ae-439e-b5fa-d627f7d2dcf6"
   },
   "outputs": [
    {
     "data": {
      "application/vnd.jupyter.widget-view+json": {
       "model_id": "550c1cea42424c91aaa302fdb5158d3b",
       "version_major": 2,
       "version_minor": 0
      },
      "text/plain": [
       "HBox(children=(IntProgress(value=0, max=336666), HTML(value='')))"
      ]
     },
     "metadata": {
      "tags": []
     },
     "output_type": "display_data"
    },
    {
     "name": "stdout",
     "output_type": "stream",
     "text": [
      "\n"
     ]
    }
   ],
   "source": [
    "# сделаем датасет с закодированными парами:\n",
    "class EngRusDataset(Dataset):\n",
    "    def __init__(self, pairs):\n",
    "        self.pairs = pairs\n",
    "    \n",
    "    def __len__(self):\n",
    "        return len(self.pairs)\n",
    "    \n",
    "    def __getitem__(self, item):\n",
    "        eng, rus = self.pairs[item]\n",
    "        return dict(\n",
    "            eng=eng,\n",
    "            rus=rus,\n",
    "        )\n",
    "\n",
    "encoded = []\n",
    "for eng, rus in tqdm(pairs):\n",
    "    a = sentence2idx(eng, eng2idx)\n",
    "    b = sentence2idx(rus, rus2idx)\n",
    "    encoded.append((a, b))\n",
    "\n",
    "    \n",
    "train_ixes = np.random.choice(np.arange(len(encoded)), size=int(len(encoded)*0.7), replace=False)\n",
    "\n",
    "trainset = EngRusDataset([encoded[i] for i in range(len(encoded)) if      i in train_ixes ])\n",
    "valset =   EngRusDataset([encoded[i] for i in range(len(encoded)) if not (i in train_ixes)])"
   ]
  },
  {
   "cell_type": "markdown",
   "metadata": {
    "colab_type": "text",
    "id": "9PDpAtEq8S3n"
   },
   "source": [
    "Давайте соберем наивный DataLoader и посмотрим как он делает батчи:\n"
   ]
  },
  {
   "cell_type": "code",
   "execution_count": null,
   "metadata": {
    "colab": {},
    "colab_type": "code",
    "id": "B-wLIzt88S3o"
   },
   "outputs": [],
   "source": [
    "trainloader = DataLoader(trainset, batch_size=8, shuffle=True)\n",
    "it = iter(trainloader)"
   ]
  },
  {
   "cell_type": "code",
   "execution_count": 8,
   "metadata": {
    "colab": {
     "base_uri": "https://localhost:8080/",
     "height": 161
    },
    "colab_type": "code",
    "executionInfo": {
     "elapsed": 105777,
     "status": "ok",
     "timestamp": 1586193727360,
     "user": {
      "displayName": "Леонид Шерстюк",
      "photoUrl": "",
      "userId": "02369709252733473830"
     },
     "user_tz": -180
    },
    "id": "3CM0vzGL8S3s",
    "outputId": "63d3cdb2-e62e-4f5e-eba7-281bf26e52f1"
   },
   "outputs": [
    {
     "data": {
      "text/plain": [
       "[tensor([1, 1, 1, 1, 1, 1, 1, 1]),\n",
       " tensor([ 5, 19, 23,  5, 98,  5,  5,  6]),\n",
       " tensor([1121,   14,   12,   39,    5,   32,   32,  168]),\n",
       " tensor([  26,   12, 1522,   11,  157,   21, 3455,  171]),\n",
       " tensor([2496, 4742,  232,   29,    6,   80,   33,   23]),\n",
       " tensor([760, 812, 140,   7, 140,  66, 467,   5]),\n",
       " tensor([ 76, 140, 175, 120,   9,  26, 140,  72]),\n",
       " tensor([ 12,   4,   2,   8,   2, 265,   4,   8])]"
      ]
     },
     "execution_count": 8,
     "metadata": {
      "tags": []
     },
     "output_type": "execute_result"
    }
   ],
   "source": [
    "batch = next(it)['eng']\n",
    "batch"
   ]
  },
  {
   "cell_type": "markdown",
   "metadata": {
    "colab_type": "text",
    "id": "O7blZtcq8S3w"
   },
   "source": [
    "В моем случае, результат запуска был таков:\n",
    "```\n",
    "[tensor([1, 1, 1, 1, 1, 1, 1, 1]),\n",
    " tensor([ 6,  7,  6, 15,  5,  6,  5, 62]),\n",
    " tensor([ 48,  34,  83,   7,  32, 221,  22,  43]),\n",
    " tensor([  5, 143,  37,  36, 129,  12,  11,  66]),\n",
    " tensor([  73, 1258,  279,    8,    6,  555,   41,   10]),\n",
    " tensor([  8, 140,   8, 628,  20,  96,  13, 270]),\n",
    " tensor([  47,    4,   15,   18,   55,  269,    6, 1287]),\n",
    " tensor([ 58,   2,  13, 140, 193, 140, 171, 140])]\n",
    "```\n",
    "\n",
    "Какие странности здесь видны?\n",
    "1. Это не тензор, а список тензоров. Соответственно при итерировании по нулевой размерности (`batch[i, :]`) мы будем получать не i-пример, а i-токены для всех примеров в батче. Это не проблема, но отличается от ожидаемого поведения.\n",
    "2. На `<EOS>` (2) оканчивается только один пример, остальные подрезаны под его длину. И вот это уже проблема.\n",
    "\n",
    "Мы бы хотели западдить все примеры до длины максимального в батче. \n",
    "Но на этапе подготовки примера (в функции `__getitem__`) мы не знаем соседей по батчу!\n",
    "Для того чтобы поменять логику склейки батчей нам понадобиться написать свою функцию `collate_fn` в конструкторе DataLoader:\n",
    "\n",
    "```\n",
    "def collate_fn(samples):\n",
    "    # samples -- список семплов-словарей\n",
    "    <...>\n",
    "    return batch\n",
    "```\n",
    "\n",
    "**(0.1 балл)** Напишите функцию `collate_fn`, которая _правильно_ паддит rus и eng последовательности и объединяет их в батчи, где `batch[i, :]` выдает токены для `i`-примера.\n",
    "\n",
    "Ожидаемый выход (для последовательности с левым паддингом):\n",
    "\n",
    "```\n",
    "tensor([[   1,   10, 3429,  405,  113,  676,   10, 1031,  140,    4,    2],\n",
    "        [   0,    1,   57,   18,   23,   19,   61,    7,  140,    4,    2],\n",
    "        [   0,    0,    0,    1,   16,   17, 1131,  416,  140,    4,    2],\n",
    "        [   0,    0,    0,    1,   13,  465,   75,  197,  140,    4,    2],\n",
    "        [   0,    0,    0,    1,    6,  302,   13,  144,  140,    4,    2],\n",
    "        [   0,    1,    6,   59,  205,  167,    8,   15,  140,    4,    2],\n",
    "        [   0,    0,    0,    0,    1,    6,   14,  678,  140,    4,    2],\n",
    "        [   0,    0,    1,    5,   29,   67,    6,   14,  140,    4,    2]])\n",
    "```"
   ]
  },
  {
   "cell_type": "code",
   "execution_count": 9,
   "metadata": {
    "colab": {
     "base_uri": "https://localhost:8080/",
     "height": 305
    },
    "colab_type": "code",
    "executionInfo": {
     "elapsed": 105769,
     "status": "ok",
     "timestamp": 1586193727362,
     "user": {
      "displayName": "Леонид Шерстюк",
      "photoUrl": "",
      "userId": "02369709252733473830"
     },
     "user_tz": -180
    },
    "id": "SMSeFFHQ8S3y",
    "outputId": "2f865af3-eb0e-4d66-824b-ba90ceff0a74"
   },
   "outputs": [
    {
     "data": {
      "text/plain": [
       "tensor([[   0,    0,    1,    6,  256,   13,   28,   14,  118,  311,  140,    4,\n",
       "            2],\n",
       "        [   0,    0,    0,    0,    0,    0,    1,    7,   65,  229,  140,    4,\n",
       "            2],\n",
       "        [   0,    0,    0,    0,    0,    1,  106,   11,   13,  425,  140,    9,\n",
       "            2],\n",
       "        [   0,    1,    5,   41,    6,   60,   37,  279,    8,  202,  140,    4,\n",
       "            2],\n",
       "        [   0,    1,    6,   14,  118,  109,  319,    8,  281,  613,  140,    4,\n",
       "            2],\n",
       "        [   1,   38,    7, 1138,    6,    8,  391,  258,  526,   18,  140,    9,\n",
       "            2],\n",
       "        [   0,    0,    0,    0,    1,    6,  249,  185,  255,   28,  140,    4,\n",
       "            2],\n",
       "        [   0,    0,    0,    0,    1,  194, 1422,   91,   10,  445,  140,    4,\n",
       "            2]])"
      ]
     },
     "execution_count": 9,
     "metadata": {
      "tags": []
     },
     "output_type": "execute_result"
    }
   ],
   "source": [
    "\n",
    "\n",
    "def pad(x,l,left=True):\n",
    "    pad_=[0 for _ in range(l-len(x))]\n",
    "    if left:\n",
    "        return pad_+x\n",
    "    else:\n",
    "        return x+pad_\n",
    "\n",
    "\n",
    "\n",
    "def make_collate(ruseng=True):\n",
    "    def collate_fn(samples):\n",
    "        eng_max = max([len(x['eng']) for x in samples])\n",
    "        rus_max = max([len(x['rus']) for x in samples])\n",
    "        if ruseng:\n",
    "            eng = [pad(x['eng'], eng_max, False)  for x in samples]\n",
    "            rus = [pad(x['rus'], rus_max, True )  for x in samples]\n",
    "        else:\n",
    "            eng = [pad(x['eng'], eng_max, True )  for x in samples]\n",
    "            rus = [pad(x['rus'], rus_max, False)  for x in samples]\n",
    "        return {'eng':torch.Tensor(eng).type(torch.long), 'rus':torch.Tensor(rus).type(torch.long)}\n",
    "    return collate_fn\n",
    "      # return {'eng': tensor(bs,seq), 'rus':tensor(bs,seq)}\n",
    "collate_fn=make_collate(ruseng=False)\n",
    "trainloader = DataLoader(trainset, batch_size=8, shuffle=True, collate_fn=collate_fn)\n",
    "it = iter(trainloader)\n",
    "next(it)['eng']"
   ]
  },
  {
   "cell_type": "markdown",
   "metadata": {
    "colab_type": "text",
    "id": "n6ceaiCwEQlj"
   },
   "source": [
    "Теперь, когда у нас есть правильный датагенератор, нам остается написать модель (энкодер и декодер).\n",
    "\n",
    "\n",
    "### Энкодер\n",
    "\n",
    "Входной тензор содержит целый числа и имеет размеры `[bs, seq_len]`, \n",
    "\n",
    "Мы пропустим их через слой с эмбеддингами, получим тензор `[bs, seq_len, dim]`, теперь это числа с плавающей точкой, которые можно подавать на вход RNN-слоям.\n",
    "\n",
    "\n",
    "\n",
    "GRU -- это RNN определенной структуры:\n",
    "<img src=\"https://habrastorage.org/webt/xt/_q/nj/xt_qnjgfjengqoqd4gizkq4j_wk.png\">\n",
    "\n",
    "На картинке желтые прямоугольники -- это линейные слои с соответствующими функциями активации.\n",
    "\n",
    "\n",
    "`nn.RNN` позволяет создавать и использовать многослойные одно- и дву-направленные слои как один слой.\n",
    "Все параметры надо указать при создании, а затем просто применить во время forward-прохода.\n",
    "\n",
    "\n",
    "Порядок размерностей несколько отличается от привычного в сверточных сетях, это связанно с невозможностью эффективно параллелить рекуррентные вычисления.\n",
    "\n",
    "\n",
    "**batch_first=True**\n",
    "Такой RNN-слой ожидает на вход два тензора:\n",
    " - input с размерами `[bs, seq_len, dim]`,\n",
    " - hidden_state с размерами `[num_layers * num_directions, bs, hidden_size]`.\n",
    " \n",
    " \n",
    "На выходе получается два тензора:\n",
    "- output `[bs, seq_len, dim]`,\n",
    "- hidden `[num_layers * num_directions, bs, hidden]`.\n",
    "\n",
    "Мы будем применять RNN двумя способами: \n",
    "- к последовательности целиком, для перевода всей фразы на одном языке в один вектор (EncoderRNN)\n",
    "- к одному тензору и входному токену для генерации фразы на другом языке (DecoderRNN)\n",
    "\n",
    "\n",
    "Энкодер будет работать по такой схеме:\n",
    "<img src=\"https://github.com/m12sl/dl-hse-2020/raw/master/05-nlp-part1/img/encoder.gif\" crossorigin=\"anonymous\"/>\n",
    "\n",
    "Мы свернем всю входную последовательность в вектор hidden state. \n",
    "Output-вектора с каждого шага энкодера (собранные в output-тензор) мы могли бы использовать для внимания, но сейчас в простейшей модели они нас не интересуют."
   ]
  },
  {
   "cell_type": "code",
   "execution_count": null,
   "metadata": {
    "colab": {},
    "colab_type": "code",
    "id": "oHrNWkx5EQlk"
   },
   "outputs": [],
   "source": []
  },
  {
   "cell_type": "code",
   "execution_count": 10,
   "metadata": {
    "colab": {
     "base_uri": "https://localhost:8080/",
     "height": 53
    },
    "colab_type": "code",
    "executionInfo": {
     "elapsed": 106073,
     "status": "ok",
     "timestamp": 1586193727685,
     "user": {
      "displayName": "Леонид Шерстюк",
      "photoUrl": "",
      "userId": "02369709252733473830"
     },
     "user_tz": -180
    },
    "id": "dph7rI9_8S33",
    "outputId": "0d60f9d1-399b-4b68-b18d-30f8cdee1775"
   },
   "outputs": [
    {
     "name": "stdout",
     "output_type": "stream",
     "text": [
      "torch.Size([8, 15])\n",
      "torch.Size([8, 15, 256]) torch.Size([1, 8, 256])\n"
     ]
    }
   ],
   "source": [
    "class EncoderRNN(nn.Module):\n",
    "    def __init__(self, hidden_size, vocab_size, layers=1):\n",
    "        super().__init__()\n",
    "        self.layers = layers\n",
    "        self.hidden_size = hidden_size\n",
    "        self.vocab_size = vocab_size\n",
    "        \n",
    "        self.embeddings = nn.Embedding(vocab_size, hidden_size)\n",
    "        self.rnn = nn.GRU(hidden_size, hidden_size, batch_first=True, num_layers=layers)\n",
    "        \n",
    "    def forward(self, input, hidden):\n",
    "        embedded = self.embeddings(input)\n",
    "        output, hidden = self.rnn(embedded, hidden)\n",
    "        return output, hidden\n",
    "    \n",
    "    def init_hidden(self, batch_size=1, device=None):\n",
    "        # be aware about dimension! https://pytorch.org/docs/stable/nn.html#torch.nn.GRU\n",
    "        return torch.zeros(self.layers, batch_size, self.hidden_size, device=device)\n",
    "\n",
    "\n",
    "enc = EncoderRNN(256, len(eng2idx))\n",
    "x = next(it)['eng']\n",
    "print(x.shape)\n",
    "hidden = enc.init_hidden(8)\n",
    "out, hidden = enc(x, hidden)\n",
    "print(out.shape, hidden.shape)"
   ]
  },
  {
   "cell_type": "markdown",
   "metadata": {
    "colab_type": "text",
    "id": "wc4ZUIvuEQlq"
   },
   "source": [
    "Мы хотим, чтобы декодер сгенерировал нам перевод -- последовательность токенов другого языка, используя вектор hidden state энкодера.\n",
    "\n",
    "Для этого подадим на вход hidden и `<SOS>` токен.\n",
    "На каждом шаге декодер будет выдавать hidden и output-вектор.\n",
    "Output-вектор -- это распределение вероятностей на следующий токен (соответственно размером со словарь выходного языка).\n",
    "\n",
    "<img src=\"https://github.com/m12sl/dl-hse-2020/raw/master/05-nlp-part1/img/decoder.gif\" crossorigin=\"anonymous\"/>\n",
    "\n",
    "Изогнутой стрелкой схематично изображена процедура выбора следующего токена из распределения.\n",
    "Поскольку токен -- дискретная величина, просто так эта операция дифференцироваться не будет.\n"
   ]
  },
  {
   "cell_type": "code",
   "execution_count": null,
   "metadata": {
    "colab": {},
    "colab_type": "code",
    "id": "oYfecQb88S38"
   },
   "outputs": [],
   "source": [
    "class DecoderRNN(nn.Module):\n",
    "    def __init__(self, hidden_size, vocab_size, layers=1):\n",
    "        super().__init__()\n",
    "        self.layers = layers\n",
    "        self.hidden_size = hidden_size\n",
    "        self.vocab_size = vocab_size\n",
    "        \n",
    "        self.embeddings = nn.Embedding(vocab_size, hidden_size)\n",
    "        self.rnn = nn.GRU(hidden_size, hidden_size, batch_first=True, num_layers=layers)\n",
    "        self.out = nn.Linear(hidden_size, vocab_size)\n",
    "        self.softmax = nn.LogSoftmax(dim=2)\n",
    "        \n",
    "    def forward(self, input, hidden):\n",
    "        embedded = self.embeddings(input)\n",
    "        output, hidden = self.rnn(embedded, hidden)\n",
    "        output = self.softmax(self.out(output))\n",
    "        return output, hidden\n",
    "        \n",
    "    def init_hidden(self, batch_size=1, device=None):\n",
    "        return torch.zeros(self.layers, batch_size, self.hidden_size, device=device)"
   ]
  },
  {
   "cell_type": "code",
   "execution_count": null,
   "metadata": {
    "colab": {},
    "colab_type": "code",
    "id": "oyMwF94n8S3_"
   },
   "outputs": [],
   "source": [
    "dec = DecoderRNN(256, len(rus2idx))"
   ]
  },
  {
   "cell_type": "markdown",
   "metadata": {
    "colab_type": "text",
    "id": "gGGfaemzEQlw"
   },
   "source": [
    "Достанем из датагенератора тензор с токенами, размером `[bs, seq_len]` и попробуем проитерироваться по seq_len, чтобы погенерировать следующий токен."
   ]
  },
  {
   "cell_type": "code",
   "execution_count": 13,
   "metadata": {
    "colab": {
     "base_uri": "https://localhost:8080/",
     "height": 359
    },
    "colab_type": "code",
    "executionInfo": {
     "elapsed": 106047,
     "status": "ok",
     "timestamp": 1586193727687,
     "user": {
      "displayName": "Леонид Шерстюк",
      "photoUrl": "",
      "userId": "02369709252733473830"
     },
     "user_tz": -180
    },
    "id": "wVFcg0Uz8S4C",
    "outputId": "3e5a7e94-f047-43ab-8195-3a3b76935772"
   },
   "outputs": [
    {
     "name": "stdout",
     "output_type": "stream",
     "text": [
      "batch size  8\n",
      "seq len  17\n",
      "torch.Size([8, 1, 10000]) torch.Size([1, 8, 256])\n",
      "torch.Size([8, 1, 10000]) torch.Size([1, 8, 256])\n",
      "torch.Size([8, 1, 10000]) torch.Size([1, 8, 256])\n",
      "torch.Size([8, 1, 10000]) torch.Size([1, 8, 256])\n",
      "torch.Size([8, 1, 10000]) torch.Size([1, 8, 256])\n",
      "torch.Size([8, 1, 10000]) torch.Size([1, 8, 256])\n",
      "torch.Size([8, 1, 10000]) torch.Size([1, 8, 256])\n",
      "torch.Size([8, 1, 10000]) torch.Size([1, 8, 256])\n",
      "torch.Size([8, 1, 10000]) torch.Size([1, 8, 256])\n",
      "torch.Size([8, 1, 10000]) torch.Size([1, 8, 256])\n",
      "torch.Size([8, 1, 10000]) torch.Size([1, 8, 256])\n",
      "torch.Size([8, 1, 10000]) torch.Size([1, 8, 256])\n",
      "torch.Size([8, 1, 10000]) torch.Size([1, 8, 256])\n",
      "torch.Size([8, 1, 10000]) torch.Size([1, 8, 256])\n",
      "torch.Size([8, 1, 10000]) torch.Size([1, 8, 256])\n",
      "torch.Size([8, 1, 10000]) torch.Size([1, 8, 256])\n",
      "torch.Size([8, 1, 10000]) torch.Size([1, 8, 256])\n"
     ]
    }
   ],
   "source": [
    "batch = next(it)['rus'] # достанем батч\n",
    "bs, seq_len = batch.shape\n",
    "print('batch size ', bs)\n",
    "print('seq len ', seq_len)\n",
    "for i in range(0, seq_len):\n",
    "    step = batch[:, i].unsqueeze(1)  # достаем срез токенов для i-шага.\n",
    "    # Это правильные токены (ground truth), мы могли бы их генерировать\n",
    "    # unsqueeze добавляет размерность 1 (из [bs] делает [bs, 1])\n",
    "    output, hidden = dec(step, hidden)\n",
    "    print(output.shape, hidden.shape)\n",
    "    # output -- это распределение вероятностей для следующего токена\n",
    "    # hidden -- это обновленный hidden state\n"
   ]
  },
  {
   "cell_type": "code",
   "execution_count": 14,
   "metadata": {
    "colab": {
     "base_uri": "https://localhost:8080/",
     "height": 35
    },
    "colab_type": "code",
    "executionInfo": {
     "elapsed": 106316,
     "status": "ok",
     "timestamp": 1586193727966,
     "user": {
      "displayName": "Леонид Шерстюк",
      "photoUrl": "",
      "userId": "02369709252733473830"
     },
     "user_tz": -180
    },
    "id": "DuA-FLImQWVZ",
    "outputId": "08b58610-c232-4751-e961-ed6563ef5509"
   },
   "outputs": [
    {
     "data": {
      "text/plain": [
       "tensor(9.4524, grad_fn=<NllLossBackward>)"
      ]
     },
     "execution_count": 14,
     "metadata": {
      "tags": []
     },
     "output_type": "execute_result"
    }
   ],
   "source": [
    "# \n",
    "# a=torch.zeros_like(output)\n",
    "# a[:,0,step]=1\n",
    "# a[:,:,:20]\n",
    "# a.shape\n",
    "# # l(output,step)\n",
    "# topv, topi = output.topk(1)\n",
    "# l(step. , topi.squeeze().detach())\n",
    "\n",
    "output.shape\n",
    "loss_f = nn.CrossEntropyLoss(ignore_index=1)\n",
    "\n",
    "loss_f(output.view(-1, 10000),step.view(-1))"
   ]
  },
  {
   "cell_type": "markdown",
   "metadata": {
    "colab_type": "text",
    "id": "DRz188xVGYaQ"
   },
   "source": [
    "**(0.6 балла)** допишите тренировочный цикл и натренируйте энкодер и декодер.\n",
    "\n",
    "1. Вам нужно написать получение следующего токена (целого числа) из распределения: вектора размером `len(rus2idx)`. Поскольку мы работаем батчами, это должна быть батчифицированная операция. У вас есть несколько вариантов как это сделать:\n",
    " - брать по argmax\n",
    " - семплировать из распределения (torch.multinomial)\n",
    " - во время тренировки брать токены из ground truth (и это нужно делать хотя бы иногда, чтобы модель сходилась).\n",
    " \n",
    "2. Вам нужно написать подсчет лосса. Это удобно делать на каждом шаге: после того как в примере встретиться `<EOS>` лосс за него считать не нужно (в векторизованном варианте можно умножить на ноль лосс за `<PAD>`-токены -- это называется маскированием). Лосс -- это просто сумма кросс-энтропийных лоссов за каждый шаг.\n",
    "\n",
    "\n",
    "\n",
    "\n",
    "**NB: Для единообразия кода с предыдущими тетрадками предлагается сложить энкодер и декодер в тупл.**"
   ]
  },
  {
   "cell_type": "code",
   "execution_count": 74,
   "metadata": {
    "colab": {
     "base_uri": "https://localhost:8080/",
     "height": 35
    },
    "colab_type": "code",
    "executionInfo": {
     "elapsed": 791,
     "status": "ok",
     "timestamp": 1586198412175,
     "user": {
      "displayName": "Леонид Шерстюк",
      "photoUrl": "",
      "userId": "02369709252733473830"
     },
     "user_tz": -180
    },
    "id": "jcGzM2QUW6HE",
    "outputId": "61846b33-025f-440e-fdcd-c57e49295bb0"
   },
   "outputs": [
    {
     "data": {
      "text/plain": [
       "tensor([2.1725, 1.0867, 0.7583], grad_fn=<NllLossBackward>)"
      ]
     },
     "execution_count": 74,
     "metadata": {
      "tags": []
     },
     "output_type": "execute_result"
    }
   ],
   "source": [
    " loss = nn.CrossEntropyLoss(reduction='none')\n",
    " input = torch.randn(3, 5, requires_grad=True)\n",
    " target = torch.empty(3, dtype=torch.long).random_(5)\n",
    " output = loss(input, target)\n",
    "#  output.backward()\n",
    "output\n",
    "# help(nn.CrossEntropyLoss)"
   ]
  },
  {
   "cell_type": "code",
   "execution_count": null,
   "metadata": {
    "colab": {},
    "colab_type": "code",
    "id": "XpS7plPiEQl4"
   },
   "outputs": [],
   "source": [
    "device = \"cuda\" if torch.cuda.is_available() else \"cpu\"\n",
    "def train(model, optimizer, dataloader, forcing_coef=0.8): \n",
    "    encoder, decoder = model\n",
    "    encoder.to(device)\n",
    "    decoder.to(device)\n",
    "    loss_f = nn.CrossEntropyLoss(reduction='none')\n",
    "    encoder.train()\n",
    "    decoder.train()\n",
    "    logs = defaultdict(list)\n",
    "    for batch in tqdm(dataloader):\n",
    "        loss=0\n",
    "        rus = batch['rus'].to(device)\n",
    "        eng = batch['eng'].to(device)\n",
    "        bs, seq_len = eng.shape\n",
    "        optimizer.zero_grad()\n",
    "        hidden = encoder.init_hidden(eng.size(0)).to(device)\n",
    "        # import pdb; pdb.set_trace()\n",
    "        for i in range(seq_len):\n",
    "            ground =  eng[:,i].unsqueeze(1)\n",
    "            outputs, hidden = encoder(ground, hidden)\n",
    "        # hidden = decoder.init_hidden(rus.size(0)).to(device)\n",
    "        bs, seq_len = rus.shape\n",
    "\n",
    "        ground =  rus[:,0].unsqueeze(1)\n",
    "        for i in range(1,seq_len):\n",
    "            # ground =  rus[:,i].unsqueeze(1)\n",
    "            if (i==1)|(np.random.random()>forcing_coef):\n",
    "                inputs = ground\n",
    "            else:\n",
    "                inputs=multinom_outputs\n",
    "            outputs, hidden = decoder(inputs, hidden)\n",
    "            # max_outputs = outputs.argmax(dim=2)\n",
    "            sm=outputs.softmax(dim=2)\n",
    "            multinom_outputs = torch.multinomial(sm.squeeze(1), 1)\n",
    "\n",
    "            ground =  rus[:,i].unsqueeze(1)\n",
    "            loss_vals=loss_f(outputs.view(-1, 10000),ground.view(-1))\n",
    "            loss += (loss_vals*(ground.view(-1)!=0)).mean()\n",
    "\n",
    "        loss.backward()\n",
    "        optimizer.step()\n",
    "        \n",
    "        logs['loss'].append(loss.item())\n",
    "    return logs\n",
    "\n",
    "def validate(model, dataloader, forcing_coef=0.8):\n",
    "    encoder, decoder = model\n",
    "    encoder.to(device)\n",
    "    decoder.to(device)\n",
    "    loss_f = nn.CrossEntropyLoss(reduction='none')\n",
    "    encoder.eval()\n",
    "    decoder.eval()\n",
    "    logs = defaultdict(list)\n",
    "    for batch in tqdm(dataloader):\n",
    "        loss=0\n",
    "        rus = batch['rus'].to(device)\n",
    "        eng = batch['eng'].to(device)\n",
    "        bs, seq_len = eng.shape\n",
    "        hidden = encoder.init_hidden(eng.size(0)).to(device)\n",
    "        for i in range(seq_len):\n",
    "            ground =  eng[:,i].unsqueeze(1)\n",
    "            outputs, hidden = encoder(ground, hidden)\n",
    "        # hidden = decoder.init_hidden(rus.size(0)).to(device)\n",
    "        bs, seq_len = rus.shape\n",
    "        for i in range(1,seq_len):\n",
    "\n",
    "            if (i==1)|(np.random.random()>forcing_coef):\n",
    "                inputs = ground\n",
    "            else:\n",
    "                inputs=multinom_outputs\n",
    "            outputs, hidden = decoder(inputs, hidden)\n",
    "            # max_outputs = outputs.argmax(dim=2)\n",
    "            sm=outputs.softmax(dim=2)\n",
    "            multinom_outputs = torch.multinomial(sm.squeeze(1), 1)\n",
    "            \n",
    "            ground =  rus[:,i].unsqueeze(1)\n",
    "            loss_vals=loss_f(outputs.view(-1, 10000),ground.view(-1))\n",
    "            loss += (loss_vals*(ground.view(-1)!=0)).mean()\n",
    "        logs['val_loss'].append(loss.item())\n",
    "    \n",
    "    return {k: [np.mean(v)] for k, v in logs.items()}\n",
    "\n",
    "def plot_logs(logs):\n",
    "    clear_output()\n",
    "    plt.figure()\n",
    "    plt.plot(np.log10(logs['loss']), zorder=1, label='Train')\n",
    "    # plt.plot(logs['val_loss'], zorder=2, label='Val')\n",
    "    # plt.show()\n",
    "    plt.scatter(logs['steps'], np.log10(logs['val_force']), marker='+', s=180, c='tab:green', label='Val forced tokens', zorder=2)\n",
    "    plt.scatter(logs['steps'], np.log10(logs['val_inf']), marker='+', s=180, c='tab:red', label='Val full inference', zorder=2)\n",
    "    plt.scatter(logs['steps'], np.log10(logs['val_random']), marker='+', s=180, c='tab:orange', label='Val random tokens', zorder=2)\n",
    "    plt.ylabel('Log of loss')\n",
    "    plt.legend()\n",
    "    plt.show()"
   ]
  },
  {
   "cell_type": "code",
   "execution_count": null,
   "metadata": {
    "colab": {},
    "colab_type": "code",
    "id": "TN3O4TCzileL"
   },
   "outputs": [],
   "source": [
    "def train_model(model, opt, trainloader, valloader, epochs=20):\n",
    "    logs =defaultdict(list)\n",
    "    for forcing_coef in np.linspace(1,0.2,epochs):\n",
    "      logs['loss'].extend(train(model, opt, trainloader, forcing_coef)['loss'])\n",
    "      logs['steps'].append(len(logs['loss']))\n",
    "      logs['val_force'].extend(validate(model, valloader, forcing_coef=1)['val_loss'])\n",
    "      logs['val_inf'].extend(validate(model, valloader, forcing_coef=0)['val_loss'])\n",
    "      logs['val_random'].extend(validate(model, valloader, forcing_coef=0.5)['val_loss'])\n",
    "      plot_logs(logs)\n",
    "    "
   ]
  },
  {
   "cell_type": "code",
   "execution_count": 97,
   "metadata": {
    "colab": {
     "base_uri": "https://localhost:8080/",
     "height": 983,
     "referenced_widgets": [
      "1bcbece09af44d39b9a0b5acdd4074c4",
      "3d8e664fccbe430d8d1ea3fe1d40504e",
      "54071c22874544c09d52893afc40a508",
      "eb873449420f425b8c3a2a9413a3f6b6",
      "7740f3ecf0ab4b70bd1aa3e2cd27b45b",
      "db87c53df85a499bb0cfd8ca95cf850f",
      "aa47c2ba8ef64636ba69823f3a944327",
      "2964e0a56e4942ef8c1ce85edaa11f41"
     ]
    },
    "colab_type": "code",
    "executionInfo": {
     "elapsed": 1830,
     "status": "error",
     "timestamp": 1586201313547,
     "user": {
      "displayName": "Леонид Шерстюк",
      "photoUrl": "",
      "userId": "02369709252733473830"
     },
     "user_tz": -180
    },
    "id": "ThQj4uOx8S4P",
    "outputId": "56a7787c-dde0-440f-dffb-26728a3de244"
   },
   "outputs": [
    {
     "data": {
      "image/png": "[encoded data removed]",
      "text/plain": [
       "<Figure size 1728x720 with 1 Axes>"
      ]
     },
     "metadata": {
      "tags": []
     },
     "output_type": "display_data"
    },
    {
     "data": {
      "application/vnd.jupyter.widget-view+json": {
       "model_id": "1bcbece09af44d39b9a0b5acdd4074c4",
       "version_major": 2,
       "version_minor": 0
      },
      "text/plain": [
       "HBox(children=(IntProgress(value=0, max=1842), HTML(value='')))"
      ]
     },
     "metadata": {
      "tags": []
     },
     "output_type": "display_data"
    },
    {
     "name": "stdout",
     "output_type": "stream",
     "text": [
      "\n"
     ]
    },
    {
     "ename": "KeyboardInterrupt",
     "evalue": "ignored",
     "output_type": "error",
     "traceback": [
      "\u001b[0;31m---------------------------------------------------------------------------\u001b[0m",
      "\u001b[0;31mKeyboardInterrupt\u001b[0m                         Traceback (most recent call last)",
      "\u001b[0;32m<ipython-input-97-a3d2008e14b9>\u001b[0m in \u001b[0;36m<module>\u001b[0;34m()\u001b[0m\n\u001b[1;32m      8\u001b[0m \u001b[0;34m\u001b[0m\u001b[0m\n\u001b[1;32m      9\u001b[0m \u001b[0;34m\u001b[0m\u001b[0m\n\u001b[0;32m---> 10\u001b[0;31m \u001b[0mtrain_model\u001b[0m\u001b[0;34m(\u001b[0m\u001b[0mmodel\u001b[0m\u001b[0;34m,\u001b[0m \u001b[0mopt\u001b[0m\u001b[0;34m,\u001b[0m \u001b[0mtrainloader\u001b[0m\u001b[0;34m,\u001b[0m \u001b[0mvalloader\u001b[0m\u001b[0;34m,\u001b[0m \u001b[0mepochs\u001b[0m\u001b[0;34m=\u001b[0m\u001b[0;36m30\u001b[0m\u001b[0;34m)\u001b[0m\u001b[0;34m\u001b[0m\u001b[0;34m\u001b[0m\u001b[0m\n\u001b[0m",
      "\u001b[0;32m<ipython-input-96-0419be41edba>\u001b[0m in \u001b[0;36mtrain_model\u001b[0;34m(model, opt, trainloader, valloader, epochs)\u001b[0m\n\u001b[1;32m      2\u001b[0m     \u001b[0mlogs\u001b[0m \u001b[0;34m=\u001b[0m\u001b[0mdefaultdict\u001b[0m\u001b[0;34m(\u001b[0m\u001b[0mlist\u001b[0m\u001b[0;34m)\u001b[0m\u001b[0;34m\u001b[0m\u001b[0;34m\u001b[0m\u001b[0m\n\u001b[1;32m      3\u001b[0m     \u001b[0;32mfor\u001b[0m \u001b[0mforcing_coef\u001b[0m \u001b[0;32min\u001b[0m \u001b[0mnp\u001b[0m\u001b[0;34m.\u001b[0m\u001b[0mlinspace\u001b[0m\u001b[0;34m(\u001b[0m\u001b[0;36m1\u001b[0m\u001b[0;34m,\u001b[0m\u001b[0;36m0.2\u001b[0m\u001b[0;34m,\u001b[0m\u001b[0mepochs\u001b[0m\u001b[0;34m)\u001b[0m\u001b[0;34m:\u001b[0m\u001b[0;34m\u001b[0m\u001b[0;34m\u001b[0m\u001b[0m\n\u001b[0;32m----> 4\u001b[0;31m       \u001b[0mlogs\u001b[0m\u001b[0;34m[\u001b[0m\u001b[0;34m'loss'\u001b[0m\u001b[0;34m]\u001b[0m\u001b[0;34m.\u001b[0m\u001b[0mextend\u001b[0m\u001b[0;34m(\u001b[0m\u001b[0mtrain\u001b[0m\u001b[0;34m(\u001b[0m\u001b[0mmodel\u001b[0m\u001b[0;34m,\u001b[0m \u001b[0mopt\u001b[0m\u001b[0;34m,\u001b[0m \u001b[0mtrainloader\u001b[0m\u001b[0;34m,\u001b[0m \u001b[0mforcing_coef\u001b[0m\u001b[0;34m)\u001b[0m\u001b[0;34m[\u001b[0m\u001b[0;34m'loss'\u001b[0m\u001b[0;34m]\u001b[0m\u001b[0;34m)\u001b[0m\u001b[0;34m\u001b[0m\u001b[0;34m\u001b[0m\u001b[0m\n\u001b[0m\u001b[1;32m      5\u001b[0m       \u001b[0mlogs\u001b[0m\u001b[0;34m[\u001b[0m\u001b[0;34m'steps'\u001b[0m\u001b[0;34m]\u001b[0m\u001b[0;34m.\u001b[0m\u001b[0mappend\u001b[0m\u001b[0;34m(\u001b[0m\u001b[0mlen\u001b[0m\u001b[0;34m(\u001b[0m\u001b[0mlogs\u001b[0m\u001b[0;34m[\u001b[0m\u001b[0;34m'loss'\u001b[0m\u001b[0;34m]\u001b[0m\u001b[0;34m)\u001b[0m\u001b[0;34m)\u001b[0m\u001b[0;34m\u001b[0m\u001b[0;34m\u001b[0m\u001b[0m\n\u001b[1;32m      6\u001b[0m       \u001b[0mlogs\u001b[0m\u001b[0;34m[\u001b[0m\u001b[0;34m'val_force'\u001b[0m\u001b[0;34m]\u001b[0m\u001b[0;34m.\u001b[0m\u001b[0mextend\u001b[0m\u001b[0;34m(\u001b[0m\u001b[0mvalidate\u001b[0m\u001b[0;34m(\u001b[0m\u001b[0mmodel\u001b[0m\u001b[0;34m,\u001b[0m \u001b[0mvalloader\u001b[0m\u001b[0;34m,\u001b[0m \u001b[0mforcing_coef\u001b[0m\u001b[0;34m=\u001b[0m\u001b[0;36m1\u001b[0m\u001b[0;34m)\u001b[0m\u001b[0;34m[\u001b[0m\u001b[0;34m'val_loss'\u001b[0m\u001b[0;34m]\u001b[0m\u001b[0;34m)\u001b[0m\u001b[0;34m\u001b[0m\u001b[0;34m\u001b[0m\u001b[0m\n",
      "\u001b[0;32m<ipython-input-95-f2c682fd4c6c>\u001b[0m in \u001b[0;36mtrain\u001b[0;34m(model, optimizer, dataloader, forcing_coef)\u001b[0m\n\u001b[1;32m     41\u001b[0m         \u001b[0moptimizer\u001b[0m\u001b[0;34m.\u001b[0m\u001b[0mstep\u001b[0m\u001b[0;34m(\u001b[0m\u001b[0;34m)\u001b[0m\u001b[0;34m\u001b[0m\u001b[0;34m\u001b[0m\u001b[0m\n\u001b[1;32m     42\u001b[0m \u001b[0;34m\u001b[0m\u001b[0m\n\u001b[0;32m---> 43\u001b[0;31m         \u001b[0mlogs\u001b[0m\u001b[0;34m[\u001b[0m\u001b[0;34m'loss'\u001b[0m\u001b[0;34m]\u001b[0m\u001b[0;34m.\u001b[0m\u001b[0mappend\u001b[0m\u001b[0;34m(\u001b[0m\u001b[0mloss\u001b[0m\u001b[0;34m.\u001b[0m\u001b[0mitem\u001b[0m\u001b[0;34m(\u001b[0m\u001b[0;34m)\u001b[0m\u001b[0;34m)\u001b[0m\u001b[0;34m\u001b[0m\u001b[0;34m\u001b[0m\u001b[0m\n\u001b[0m\u001b[1;32m     44\u001b[0m     \u001b[0;32mreturn\u001b[0m \u001b[0mlogs\u001b[0m\u001b[0;34m\u001b[0m\u001b[0;34m\u001b[0m\u001b[0m\n\u001b[1;32m     45\u001b[0m \u001b[0;34m\u001b[0m\u001b[0m\n",
      "\u001b[0;31mKeyboardInterrupt\u001b[0m: "
     ]
    }
   ],
   "source": [
    "plt.rcParams['figure.figsize']=24,10\n",
    "encoder = EncoderRNN(256, len(eng2idx)).to(device)\n",
    "decoder = DecoderRNN(256, len(rus2idx)).to(device)\n",
    "opt = torch.optim.Adam(list(encoder.parameters()) + list(decoder.parameters()), lr=1e-2)\n",
    "trainloader = DataLoader(trainset, batch_size=128, shuffle=True, collate_fn=collate_fn)\n",
    "valloader = DataLoader(valset, batch_size=128, shuffle=False, collate_fn=collate_fn)\n",
    "model = (encoder, decoder)\n",
    "\n",
    "\n",
    "train_model(model, opt, trainloader, valloader, epochs=30)"
   ]
  },
  {
   "cell_type": "code",
   "execution_count": 98,
   "metadata": {
    "colab": {
     "base_uri": "https://localhost:8080/",
     "height": 813,
     "referenced_widgets": [
      "62e8c18734a246cfa26ece8b9e0cdcef",
      "7f8ba8bf17234e58a5e6c013126f0fae",
      "b638a35142a4428e8924129a4b4d51f9",
      "996336a9f6cb48fb8f49286154b49a5f",
      "c8cae0de133d468e8870123b097e42a2",
      "69611115b38e4a22b15d6ebc78a6e540",
      "3ae0841852c848b1b64c3c9ed687cf76",
      "a453607e5ea84051871b32127777e043"
     ]
    },
    "colab_type": "code",
    "executionInfo": {
     "elapsed": 7810,
     "status": "error",
     "timestamp": 1586204810544,
     "user": {
      "displayName": "Леонид Шерстюк",
      "photoUrl": "",
      "userId": "02369709252733473830"
     },
     "user_tz": -180
    },
    "id": "o_IKx8wHnjRn",
    "outputId": "820191f4-875c-41ea-fbab-f7c6cb999b6c"
   },
   "outputs": [
    {
     "data": {
      "image/png": "[encoded data removed]",
      "text/plain": [
       "<Figure size 1728x720 with 1 Axes>"
      ]
     },
     "metadata": {
      "tags": []
     },
     "output_type": "display_data"
    },
    {
     "data": {
      "application/vnd.jupyter.widget-view+json": {
       "model_id": "62e8c18734a246cfa26ece8b9e0cdcef",
       "version_major": 2,
       "version_minor": 0
      },
      "text/plain": [
       "HBox(children=(IntProgress(value=0, max=1842), HTML(value='')))"
      ]
     },
     "metadata": {
      "tags": []
     },
     "output_type": "display_data"
    },
    {
     "name": "stdout",
     "output_type": "stream",
     "text": [
      "\n"
     ]
    },
    {
     "ename": "KeyboardInterrupt",
     "evalue": "ignored",
     "output_type": "error",
     "traceback": [
      "\u001b[0;31m---------------------------------------------------------------------------\u001b[0m",
      "\u001b[0;31mKeyboardInterrupt\u001b[0m                         Traceback (most recent call last)",
      "\u001b[0;32m<ipython-input-98-a1db992ec707>\u001b[0m in \u001b[0;36m<module>\u001b[0;34m()\u001b[0m\n\u001b[1;32m      8\u001b[0m \u001b[0;34m\u001b[0m\u001b[0m\n\u001b[1;32m      9\u001b[0m \u001b[0;34m\u001b[0m\u001b[0m\n\u001b[0;32m---> 10\u001b[0;31m \u001b[0mtrain_model\u001b[0m\u001b[0;34m(\u001b[0m\u001b[0mmodel\u001b[0m\u001b[0;34m,\u001b[0m \u001b[0mopt\u001b[0m\u001b[0;34m,\u001b[0m \u001b[0mtrainloader\u001b[0m\u001b[0;34m,\u001b[0m \u001b[0mvalloader\u001b[0m\u001b[0;34m,\u001b[0m \u001b[0mepochs\u001b[0m\u001b[0;34m=\u001b[0m\u001b[0;36m30\u001b[0m\u001b[0;34m)\u001b[0m\u001b[0;34m\u001b[0m\u001b[0;34m\u001b[0m\u001b[0m\n\u001b[0m",
      "\u001b[0;32m<ipython-input-96-0419be41edba>\u001b[0m in \u001b[0;36mtrain_model\u001b[0;34m(model, opt, trainloader, valloader, epochs)\u001b[0m\n\u001b[1;32m      2\u001b[0m     \u001b[0mlogs\u001b[0m \u001b[0;34m=\u001b[0m\u001b[0mdefaultdict\u001b[0m\u001b[0;34m(\u001b[0m\u001b[0mlist\u001b[0m\u001b[0;34m)\u001b[0m\u001b[0;34m\u001b[0m\u001b[0;34m\u001b[0m\u001b[0m\n\u001b[1;32m      3\u001b[0m     \u001b[0;32mfor\u001b[0m \u001b[0mforcing_coef\u001b[0m \u001b[0;32min\u001b[0m \u001b[0mnp\u001b[0m\u001b[0;34m.\u001b[0m\u001b[0mlinspace\u001b[0m\u001b[0;34m(\u001b[0m\u001b[0;36m1\u001b[0m\u001b[0;34m,\u001b[0m\u001b[0;36m0.2\u001b[0m\u001b[0;34m,\u001b[0m\u001b[0mepochs\u001b[0m\u001b[0;34m)\u001b[0m\u001b[0;34m:\u001b[0m\u001b[0;34m\u001b[0m\u001b[0;34m\u001b[0m\u001b[0m\n\u001b[0;32m----> 4\u001b[0;31m       \u001b[0mlogs\u001b[0m\u001b[0;34m[\u001b[0m\u001b[0;34m'loss'\u001b[0m\u001b[0;34m]\u001b[0m\u001b[0;34m.\u001b[0m\u001b[0mextend\u001b[0m\u001b[0;34m(\u001b[0m\u001b[0mtrain\u001b[0m\u001b[0;34m(\u001b[0m\u001b[0mmodel\u001b[0m\u001b[0;34m,\u001b[0m \u001b[0mopt\u001b[0m\u001b[0;34m,\u001b[0m \u001b[0mtrainloader\u001b[0m\u001b[0;34m,\u001b[0m \u001b[0mforcing_coef\u001b[0m\u001b[0;34m)\u001b[0m\u001b[0;34m[\u001b[0m\u001b[0;34m'loss'\u001b[0m\u001b[0;34m]\u001b[0m\u001b[0;34m)\u001b[0m\u001b[0;34m\u001b[0m\u001b[0;34m\u001b[0m\u001b[0m\n\u001b[0m\u001b[1;32m      5\u001b[0m       \u001b[0mlogs\u001b[0m\u001b[0;34m[\u001b[0m\u001b[0;34m'steps'\u001b[0m\u001b[0;34m]\u001b[0m\u001b[0;34m.\u001b[0m\u001b[0mappend\u001b[0m\u001b[0;34m(\u001b[0m\u001b[0mlen\u001b[0m\u001b[0;34m(\u001b[0m\u001b[0mlogs\u001b[0m\u001b[0;34m[\u001b[0m\u001b[0;34m'loss'\u001b[0m\u001b[0;34m]\u001b[0m\u001b[0;34m)\u001b[0m\u001b[0;34m)\u001b[0m\u001b[0;34m\u001b[0m\u001b[0;34m\u001b[0m\u001b[0m\n\u001b[1;32m      6\u001b[0m       \u001b[0mlogs\u001b[0m\u001b[0;34m[\u001b[0m\u001b[0;34m'val_force'\u001b[0m\u001b[0;34m]\u001b[0m\u001b[0;34m.\u001b[0m\u001b[0mextend\u001b[0m\u001b[0;34m(\u001b[0m\u001b[0mvalidate\u001b[0m\u001b[0;34m(\u001b[0m\u001b[0mmodel\u001b[0m\u001b[0;34m,\u001b[0m \u001b[0mvalloader\u001b[0m\u001b[0;34m,\u001b[0m \u001b[0mforcing_coef\u001b[0m\u001b[0;34m=\u001b[0m\u001b[0;36m1\u001b[0m\u001b[0;34m)\u001b[0m\u001b[0;34m[\u001b[0m\u001b[0;34m'val_loss'\u001b[0m\u001b[0;34m]\u001b[0m\u001b[0;34m)\u001b[0m\u001b[0;34m\u001b[0m\u001b[0;34m\u001b[0m\u001b[0m\n",
      "\u001b[0;32m<ipython-input-95-f2c682fd4c6c>\u001b[0m in \u001b[0;36mtrain\u001b[0;34m(model, optimizer, dataloader, forcing_coef)\u001b[0m\n\u001b[1;32m     41\u001b[0m         \u001b[0moptimizer\u001b[0m\u001b[0;34m.\u001b[0m\u001b[0mstep\u001b[0m\u001b[0;34m(\u001b[0m\u001b[0;34m)\u001b[0m\u001b[0;34m\u001b[0m\u001b[0;34m\u001b[0m\u001b[0m\n\u001b[1;32m     42\u001b[0m \u001b[0;34m\u001b[0m\u001b[0m\n\u001b[0;32m---> 43\u001b[0;31m         \u001b[0mlogs\u001b[0m\u001b[0;34m[\u001b[0m\u001b[0;34m'loss'\u001b[0m\u001b[0;34m]\u001b[0m\u001b[0;34m.\u001b[0m\u001b[0mappend\u001b[0m\u001b[0;34m(\u001b[0m\u001b[0mloss\u001b[0m\u001b[0;34m.\u001b[0m\u001b[0mitem\u001b[0m\u001b[0;34m(\u001b[0m\u001b[0;34m)\u001b[0m\u001b[0;34m)\u001b[0m\u001b[0;34m\u001b[0m\u001b[0;34m\u001b[0m\u001b[0m\n\u001b[0m\u001b[1;32m     44\u001b[0m     \u001b[0;32mreturn\u001b[0m \u001b[0mlogs\u001b[0m\u001b[0;34m\u001b[0m\u001b[0;34m\u001b[0m\u001b[0m\n\u001b[1;32m     45\u001b[0m \u001b[0;34m\u001b[0m\u001b[0m\n",
      "\u001b[0;31mKeyboardInterrupt\u001b[0m: "
     ]
    }
   ],
   "source": [
    "plt.rcParams['figure.figsize']=24,10\n",
    "encoder = EncoderRNN(256, len(eng2idx)).to(device)\n",
    "decoder = DecoderRNN(256, len(rus2idx)).to(device)\n",
    "opt = torch.optim.Adam(list(encoder.parameters()) + list(decoder.parameters()), lr=1e-3)\n",
    "trainloader = DataLoader(trainset, batch_size=128, shuffle=True, collate_fn=collate_fn)\n",
    "valloader = DataLoader(valset, batch_size=128, shuffle=False, collate_fn=collate_fn)\n",
    "model = (encoder, decoder)\n",
    "\n",
    "\n",
    "train_model(model, opt, trainloader, valloader, epochs=30)"
   ]
  },
  {
   "cell_type": "markdown",
   "metadata": {
    "colab_type": "text",
    "id": "5Jfm1d2GGcyi"
   },
   "source": [
    "**(0.2 балла)** Напишите функцию перевода с семплирование из распределения с температурой.\n"
   ]
  },
  {
   "cell_type": "code",
   "execution_count": 101,
   "metadata": {
    "colab": {
     "base_uri": "https://localhost:8080/",
     "height": 215
    },
    "colab_type": "code",
    "executionInfo": {
     "elapsed": 775,
     "status": "ok",
     "timestamp": 1586204851493,
     "user": {
      "displayName": "Леонид Шерстюк",
      "photoUrl": "",
      "userId": "02369709252733473830"
     },
     "user_tz": -180
    },
    "id": "64h3_w528S4d",
    "outputId": "ab46c22d-8d4e-4c14-f3b6-1e68fef8e981"
   },
   "outputs": [
    {
     "name": "stdout",
     "output_type": "stream",
     "text": [
      "[1, 23, 14, 63, 46, 9, 2]\n",
      "какая происходит  ? EOS EOS ? EOS EOS EOS EOS EOS EOS EOS EOS EOS EOS EOS EOS ?\n",
      "что происходит, происходит  ? EOS EOS EOS EOS EOS EOS EOS EOS EOS EOS EOS EOS EOS EOS EOS\n",
      "за чем происходит  ? EOS EOS EOS EOS EOS EOS EOS EOS EOS EOS EOS EOS ? EOS EOS\n",
      "что идет происходит  ? EOS EOS EOS ? EOS EOS EOS EOS EOS EOS EOS EOS EOS EOS EOS\n",
      "что происходит, идет  ? EOS EOS ? EOS ? EOS EOS EOS EOS EOS EOS EOS EOS EOS EOS\n",
      "что идет происходит  ? EOS EOS EOS ? EOS EOS EOS EOS EOS EOS EOS EOS EOS EOS EOS\n",
      "это происходит  ? EOS EOS EOS EOS EOS EOS EOS EOS EOS ? EOS EOS EOS EOS  ?\n",
      "что чего происходит  ? EOS EOS EOS ? EOS EOS EOS EOS EOS EOS  ? EOS EOS EOS\n",
      "что идет будет  ? EOS EOS EOS EOS ? EOS EOS EOS EOS EOS EOS EOS EOS EOS ?\n",
      "на ужин будет ? ? EOS EOS ? EOS EOS EOS EOS ? EOS EOS ? EOS EOS EOS EOS\n"
     ]
    }
   ],
   "source": [
    "encoder.eval()\n",
    "decoder.eval()\n",
    "encoder = encoder.to(\"cpu\")\n",
    "decoder = decoder.to(\"cpu\")\n",
    "\n",
    "def evaluate(sentence, T=1.0):\n",
    "    encoded = sentence2idx(sentence, eng2idx)\n",
    "    output = []\n",
    "    print(encoded)\n",
    "    bs = 10\n",
    "    with torch.no_grad():\n",
    "        z = torch.LongTensor(encoded).view(1, -1).repeat(bs, 1)\n",
    "        encoder_outputs, hidden = encoder(z, encoder.init_hidden(bs))\n",
    "        inputs = z[:,0].view(-1,1)\n",
    "        for i in range(20):\n",
    "            outputs, hidden = decoder(inputs, hidden)\n",
    "            sm=(outputs/T).softmax(dim=2)\n",
    "            multinom_outputs = torch.multinomial(sm.squeeze(1), 1)\n",
    "            output.append(multinom_outputs)\n",
    "            inputs=multinom_outputs\n",
    "            \n",
    "    # print(output)\n",
    "    # import pdb; pdb.set_trace()\n",
    "    output=[x.numpy() for x in output]\n",
    "    output = np.array(output).T\n",
    "    # return output\n",
    "    for s in output.reshape((10,20)):\n",
    "        out = idx2sentence(s, idx2rus)\n",
    "        print(out.replace('PAD', \"\"))\n",
    "\n",
    "    \n",
    "evaluate(\"What is going on?\")"
   ]
  },
  {
   "cell_type": "code",
   "execution_count": 108,
   "metadata": {
    "colab": {
     "base_uri": "https://localhost:8080/",
     "height": 215
    },
    "colab_type": "code",
    "executionInfo": {
     "elapsed": 707,
     "status": "ok",
     "timestamp": 1586204956075,
     "user": {
      "displayName": "Леонид Шерстюк",
      "photoUrl": "",
      "userId": "02369709252733473830"
     },
     "user_tz": -180
    },
    "id": "K85juW0UefGV",
    "outputId": "fa44013b-45a7-4ff0-f07f-e5dc3f9493ac"
   },
   "outputs": [
    {
     "name": "stdout",
     "output_type": "stream",
     "text": [
      "[1, 50, 34, 451, 33, 3, 278, 9, 2]\n",
      "на поговорите тебя кто моя дядя пялиться  ? мне этого похоже нет домом ? EOS спасения  ? любимая\n",
      "нравлюсь есть эта этои сплю повредил посмотрел продать  ? ? EOS EOS поехать EOS ? путешествовать EOS своем показалось,\n",
      "вы тебе когда костюм подругу потерял повидать вас ? EOS значит ушел получал   ? справа ! ? !\n",
      "журналы нужна моя папа  помогаете идет за год газ японии улыбался  явился EOS идет другим услышать ? EOS\n",
      "как раз выглядит друга на твоеи EOS при EOS ? пальцев пуста руки своим навсегда спать хорошо ? вас заблудился\n",
      "потребуется сеичас друг до своего женщина, UNK впечатление ? ? споешь мост ? . EOS тобои школе  EOS EOS\n",
      "в мои папу вероятно, профессор UNK  . EOS посмотреть мне дал  EOS EOS простили ? EOS очков отъездом\n",
      "лжец ходит мои мои знакомы ваше приходится нравлюсь  ? приходит  ? EOS настоящии всю его   почувствовал\n",
      "тебе моя бумажнике лифт игрок ты ? на предположение считаешь кажутся момент почему пальцев  купим  . EOS EOS\n",
      "ходит вам я ходил на мою экзамен  ? EOS EOS EOS было дед вышла я была бросил кошку случилось\n"
     ]
    }
   ],
   "source": [
    "evaluate(\"how are you, my dearest friend?\", 2)"
   ]
  },
  {
   "cell_type": "code",
   "execution_count": null,
   "metadata": {
    "colab": {},
    "colab_type": "code",
    "id": "sNWUv27huEDr"
   },
   "outputs": [],
   "source": []
  },
  {
   "cell_type": "markdown",
   "metadata": {
    "colab_type": "raw",
    "id": "2jfWcdjw8S4x"
   },
   "source": []
  }
 ],
 "metadata": {
  "accelerator": "GPU",
  "colab": {
   "collapsed_sections": [],
   "name": "Copy of Copy of nmt-2.ipynb",
   "provenance": [
    {
     "file_id": "https://github.com/m12sl/dl-hse-2020/blob/master/05-nlp-part1/NMT.ipynb",
     "timestamp": 1586085573820
    }
   ]
  },
  "kernelspec": {
   "display_name": "CNNs",
   "language": "python",
   "name": "cnn"
  },
  "language_info": {
   "codemirror_mode": {
    "name": "ipython",
    "version": 3
   },
   "file_extension": ".py",
   "mimetype": "text/x-python",
   "name": "python",
   "nbconvert_exporter": "python",
   "pygments_lexer": "ipython3",
   "version": "3.6.7"
  },
  "widgets": {
   "application/vnd.jupyter.widget-state+json": {
    "1bcbece09af44d39b9a0b5acdd4074c4": {
     "model_module": "@jupyter-widgets/controls",
     "model_name": "HBoxModel",
     "state": {
      "_dom_classes": [],
      "_model_module": "@jupyter-widgets/controls",
      "_model_module_version": "1.5.0",
      "_model_name": "HBoxModel",
      "_view_count": null,
      "_view_module": "@jupyter-widgets/controls",
      "_view_module_version": "1.5.0",
      "_view_name": "HBoxView",
      "box_style": "",
      "children": [
       "IPY_MODEL_54071c22874544c09d52893afc40a508",
       "IPY_MODEL_eb873449420f425b8c3a2a9413a3f6b6"
      ],
      "layout": "IPY_MODEL_3d8e664fccbe430d8d1ea3fe1d40504e"
     }
    },
    "2964e0a56e4942ef8c1ce85edaa11f41": {
     "model_module": "@jupyter-widgets/base",
     "model_name": "LayoutModel",
     "state": {
      "_model_module": "@jupyter-widgets/base",
      "_model_module_version": "1.2.0",
      "_model_name": "LayoutModel",
      "_view_count": null,
      "_view_module": "@jupyter-widgets/base",
      "_view_module_version": "1.2.0",
      "_view_name": "LayoutView",
      "align_content": null,
      "align_items": null,
      "align_self": null,
      "border": null,
      "bottom": null,
      "display": null,
      "flex": null,
      "flex_flow": null,
      "grid_area": null,
      "grid_auto_columns": null,
      "grid_auto_flow": null,
      "grid_auto_rows": null,
      "grid_column": null,
      "grid_gap": null,
      "grid_row": null,
      "grid_template_areas": null,
      "grid_template_columns": null,
      "grid_template_rows": null,
      "height": null,
      "justify_content": null,
      "justify_items": null,
      "left": null,
      "margin": null,
      "max_height": null,
      "max_width": null,
      "min_height": null,
      "min_width": null,
      "object_fit": null,
      "object_position": null,
      "order": null,
      "overflow": null,
      "overflow_x": null,
      "overflow_y": null,
      "padding": null,
      "right": null,
      "top": null,
      "visibility": null,
      "width": null
     }
    },
    "352113d78fb640be8677dde16cb91fe0": {
     "model_module": "@jupyter-widgets/controls",
     "model_name": "DescriptionStyleModel",
     "state": {
      "_model_module": "@jupyter-widgets/controls",
      "_model_module_version": "1.5.0",
      "_model_name": "DescriptionStyleModel",
      "_view_count": null,
      "_view_module": "@jupyter-widgets/base",
      "_view_module_version": "1.2.0",
      "_view_name": "StyleView",
      "description_width": ""
     }
    },
    "3ae0841852c848b1b64c3c9ed687cf76": {
     "model_module": "@jupyter-widgets/controls",
     "model_name": "DescriptionStyleModel",
     "state": {
      "_model_module": "@jupyter-widgets/controls",
      "_model_module_version": "1.5.0",
      "_model_name": "DescriptionStyleModel",
      "_view_count": null,
      "_view_module": "@jupyter-widgets/base",
      "_view_module_version": "1.2.0",
      "_view_name": "StyleView",
      "description_width": ""
     }
    },
    "3d8e664fccbe430d8d1ea3fe1d40504e": {
     "model_module": "@jupyter-widgets/base",
     "model_name": "LayoutModel",
     "state": {
      "_model_module": "@jupyter-widgets/base",
      "_model_module_version": "1.2.0",
      "_model_name": "LayoutModel",
      "_view_count": null,
      "_view_module": "@jupyter-widgets/base",
      "_view_module_version": "1.2.0",
      "_view_name": "LayoutView",
      "align_content": null,
      "align_items": null,
      "align_self": null,
      "border": null,
      "bottom": null,
      "display": null,
      "flex": null,
      "flex_flow": null,
      "grid_area": null,
      "grid_auto_columns": null,
      "grid_auto_flow": null,
      "grid_auto_rows": null,
      "grid_column": null,
      "grid_gap": null,
      "grid_row": null,
      "grid_template_areas": null,
      "grid_template_columns": null,
      "grid_template_rows": null,
      "height": null,
      "justify_content": null,
      "justify_items": null,
      "left": null,
      "margin": null,
      "max_height": null,
      "max_width": null,
      "min_height": null,
      "min_width": null,
      "object_fit": null,
      "object_position": null,
      "order": null,
      "overflow": null,
      "overflow_x": null,
      "overflow_y": null,
      "padding": null,
      "right": null,
      "top": null,
      "visibility": null,
      "width": null
     }
    },
    "3e7221d22ccb464e82418c47b760d924": {
     "model_module": "@jupyter-widgets/controls",
     "model_name": "IntProgressModel",
     "state": {
      "_dom_classes": [],
      "_model_module": "@jupyter-widgets/controls",
      "_model_module_version": "1.5.0",
      "_model_name": "IntProgressModel",
      "_view_count": null,
      "_view_module": "@jupyter-widgets/controls",
      "_view_module_version": "1.5.0",
      "_view_name": "ProgressView",
      "bar_style": "success",
      "description": "100%",
      "description_tooltip": null,
      "layout": "IPY_MODEL_c584758deda2486db9bbafdafa48f2a2",
      "max": 336666,
      "min": 0,
      "orientation": "horizontal",
      "style": "IPY_MODEL_e6767cabf6b546f48eed721b53e0f454",
      "value": 336666
     }
    },
    "4fa9db78a0104e7283004d8860dfbff5": {
     "model_module": "@jupyter-widgets/controls",
     "model_name": "HTMLModel",
     "state": {
      "_dom_classes": [],
      "_model_module": "@jupyter-widgets/controls",
      "_model_module_version": "1.5.0",
      "_model_name": "HTMLModel",
      "_view_count": null,
      "_view_module": "@jupyter-widgets/controls",
      "_view_module_version": "1.5.0",
      "_view_name": "HTMLView",
      "description": "",
      "description_tooltip": null,
      "layout": "IPY_MODEL_a8a11037ca7842a29f0766f1167d632b",
      "placeholder": "​",
      "style": "IPY_MODEL_d7fa83d9e3714d2cb172643cc06c6016",
      "value": " 336666/336666 [00:11&lt;00:00, 29677.76it/s]"
     }
    },
    "54071c22874544c09d52893afc40a508": {
     "model_module": "@jupyter-widgets/controls",
     "model_name": "IntProgressModel",
     "state": {
      "_dom_classes": [],
      "_model_module": "@jupyter-widgets/controls",
      "_model_module_version": "1.5.0",
      "_model_name": "IntProgressModel",
      "_view_count": null,
      "_view_module": "@jupyter-widgets/controls",
      "_view_module_version": "1.5.0",
      "_view_name": "ProgressView",
      "bar_style": "danger",
      "description": "  1%",
      "description_tooltip": null,
      "layout": "IPY_MODEL_db87c53df85a499bb0cfd8ca95cf850f",
      "max": 1842,
      "min": 0,
      "orientation": "horizontal",
      "style": "IPY_MODEL_7740f3ecf0ab4b70bd1aa3e2cd27b45b",
      "value": 26
     }
    },
    "550c1cea42424c91aaa302fdb5158d3b": {
     "model_module": "@jupyter-widgets/controls",
     "model_name": "HBoxModel",
     "state": {
      "_dom_classes": [],
      "_model_module": "@jupyter-widgets/controls",
      "_model_module_version": "1.5.0",
      "_model_name": "HBoxModel",
      "_view_count": null,
      "_view_module": "@jupyter-widgets/controls",
      "_view_module_version": "1.5.0",
      "_view_name": "HBoxView",
      "box_style": "",
      "children": [
       "IPY_MODEL_f165e6514fee4da6977235565c9e38d4",
       "IPY_MODEL_cdb224ddacc84b7a9855da99808a61fb"
      ],
      "layout": "IPY_MODEL_93282beb38dd499c89cdf6a7399a2d44"
     }
    },
    "57707f6cc3d245de9b5a1cdf206d9f82": {
     "model_module": "@jupyter-widgets/base",
     "model_name": "LayoutModel",
     "state": {
      "_model_module": "@jupyter-widgets/base",
      "_model_module_version": "1.2.0",
      "_model_name": "LayoutModel",
      "_view_count": null,
      "_view_module": "@jupyter-widgets/base",
      "_view_module_version": "1.2.0",
      "_view_name": "LayoutView",
      "align_content": null,
      "align_items": null,
      "align_self": null,
      "border": null,
      "bottom": null,
      "display": null,
      "flex": null,
      "flex_flow": null,
      "grid_area": null,
      "grid_auto_columns": null,
      "grid_auto_flow": null,
      "grid_auto_rows": null,
      "grid_column": null,
      "grid_gap": null,
      "grid_row": null,
      "grid_template_areas": null,
      "grid_template_columns": null,
      "grid_template_rows": null,
      "height": null,
      "justify_content": null,
      "justify_items": null,
      "left": null,
      "margin": null,
      "max_height": null,
      "max_width": null,
      "min_height": null,
      "min_width": null,
      "object_fit": null,
      "object_position": null,
      "order": null,
      "overflow": null,
      "overflow_x": null,
      "overflow_y": null,
      "padding": null,
      "right": null,
      "top": null,
      "visibility": null,
      "width": null
     }
    },
    "62e8c18734a246cfa26ece8b9e0cdcef": {
     "model_module": "@jupyter-widgets/controls",
     "model_name": "HBoxModel",
     "state": {
      "_dom_classes": [],
      "_model_module": "@jupyter-widgets/controls",
      "_model_module_version": "1.5.0",
      "_model_name": "HBoxModel",
      "_view_count": null,
      "_view_module": "@jupyter-widgets/controls",
      "_view_module_version": "1.5.0",
      "_view_name": "HBoxView",
      "box_style": "",
      "children": [
       "IPY_MODEL_b638a35142a4428e8924129a4b4d51f9",
       "IPY_MODEL_996336a9f6cb48fb8f49286154b49a5f"
      ],
      "layout": "IPY_MODEL_7f8ba8bf17234e58a5e6c013126f0fae"
     }
    },
    "69611115b38e4a22b15d6ebc78a6e540": {
     "model_module": "@jupyter-widgets/base",
     "model_name": "LayoutModel",
     "state": {
      "_model_module": "@jupyter-widgets/base",
      "_model_module_version": "1.2.0",
      "_model_name": "LayoutModel",
      "_view_count": null,
      "_view_module": "@jupyter-widgets/base",
      "_view_module_version": "1.2.0",
      "_view_name": "LayoutView",
      "align_content": null,
      "align_items": null,
      "align_self": null,
      "border": null,
      "bottom": null,
      "display": null,
      "flex": null,
      "flex_flow": null,
      "grid_area": null,
      "grid_auto_columns": null,
      "grid_auto_flow": null,
      "grid_auto_rows": null,
      "grid_column": null,
      "grid_gap": null,
      "grid_row": null,
      "grid_template_areas": null,
      "grid_template_columns": null,
      "grid_template_rows": null,
      "height": null,
      "justify_content": null,
      "justify_items": null,
      "left": null,
      "margin": null,
      "max_height": null,
      "max_width": null,
      "min_height": null,
      "min_width": null,
      "object_fit": null,
      "object_position": null,
      "order": null,
      "overflow": null,
      "overflow_x": null,
      "overflow_y": null,
      "padding": null,
      "right": null,
      "top": null,
      "visibility": null,
      "width": null
     }
    },
    "758279ed833b4622b89abd2c96548651": {
     "model_module": "@jupyter-widgets/controls",
     "model_name": "HBoxModel",
     "state": {
      "_dom_classes": [],
      "_model_module": "@jupyter-widgets/controls",
      "_model_module_version": "1.5.0",
      "_model_name": "HBoxModel",
      "_view_count": null,
      "_view_module": "@jupyter-widgets/controls",
      "_view_module_version": "1.5.0",
      "_view_name": "HBoxView",
      "box_style": "",
      "children": [
       "IPY_MODEL_3e7221d22ccb464e82418c47b760d924",
       "IPY_MODEL_4fa9db78a0104e7283004d8860dfbff5"
      ],
      "layout": "IPY_MODEL_8fdc570d171f4b06855e8228601823a5"
     }
    },
    "7740f3ecf0ab4b70bd1aa3e2cd27b45b": {
     "model_module": "@jupyter-widgets/controls",
     "model_name": "ProgressStyleModel",
     "state": {
      "_model_module": "@jupyter-widgets/controls",
      "_model_module_version": "1.5.0",
      "_model_name": "ProgressStyleModel",
      "_view_count": null,
      "_view_module": "@jupyter-widgets/base",
      "_view_module_version": "1.2.0",
      "_view_name": "StyleView",
      "bar_color": null,
      "description_width": "initial"
     }
    },
    "7f8ba8bf17234e58a5e6c013126f0fae": {
     "model_module": "@jupyter-widgets/base",
     "model_name": "LayoutModel",
     "state": {
      "_model_module": "@jupyter-widgets/base",
      "_model_module_version": "1.2.0",
      "_model_name": "LayoutModel",
      "_view_count": null,
      "_view_module": "@jupyter-widgets/base",
      "_view_module_version": "1.2.0",
      "_view_name": "LayoutView",
      "align_content": null,
      "align_items": null,
      "align_self": null,
      "border": null,
      "bottom": null,
      "display": null,
      "flex": null,
      "flex_flow": null,
      "grid_area": null,
      "grid_auto_columns": null,
      "grid_auto_flow": null,
      "grid_auto_rows": null,
      "grid_column": null,
      "grid_gap": null,
      "grid_row": null,
      "grid_template_areas": null,
      "grid_template_columns": null,
      "grid_template_rows": null,
      "height": null,
      "justify_content": null,
      "justify_items": null,
      "left": null,
      "margin": null,
      "max_height": null,
      "max_width": null,
      "min_height": null,
      "min_width": null,
      "object_fit": null,
      "object_position": null,
      "order": null,
      "overflow": null,
      "overflow_x": null,
      "overflow_y": null,
      "padding": null,
      "right": null,
      "top": null,
      "visibility": null,
      "width": null
     }
    },
    "8fdc570d171f4b06855e8228601823a5": {
     "model_module": "@jupyter-widgets/base",
     "model_name": "LayoutModel",
     "state": {
      "_model_module": "@jupyter-widgets/base",
      "_model_module_version": "1.2.0",
      "_model_name": "LayoutModel",
      "_view_count": null,
      "_view_module": "@jupyter-widgets/base",
      "_view_module_version": "1.2.0",
      "_view_name": "LayoutView",
      "align_content": null,
      "align_items": null,
      "align_self": null,
      "border": null,
      "bottom": null,
      "display": null,
      "flex": null,
      "flex_flow": null,
      "grid_area": null,
      "grid_auto_columns": null,
      "grid_auto_flow": null,
      "grid_auto_rows": null,
      "grid_column": null,
      "grid_gap": null,
      "grid_row": null,
      "grid_template_areas": null,
      "grid_template_columns": null,
      "grid_template_rows": null,
      "height": null,
      "justify_content": null,
      "justify_items": null,
      "left": null,
      "margin": null,
      "max_height": null,
      "max_width": null,
      "min_height": null,
      "min_width": null,
      "object_fit": null,
      "object_position": null,
      "order": null,
      "overflow": null,
      "overflow_x": null,
      "overflow_y": null,
      "padding": null,
      "right": null,
      "top": null,
      "visibility": null,
      "width": null
     }
    },
    "93282beb38dd499c89cdf6a7399a2d44": {
     "model_module": "@jupyter-widgets/base",
     "model_name": "LayoutModel",
     "state": {
      "_model_module": "@jupyter-widgets/base",
      "_model_module_version": "1.2.0",
      "_model_name": "LayoutModel",
      "_view_count": null,
      "_view_module": "@jupyter-widgets/base",
      "_view_module_version": "1.2.0",
      "_view_name": "LayoutView",
      "align_content": null,
      "align_items": null,
      "align_self": null,
      "border": null,
      "bottom": null,
      "display": null,
      "flex": null,
      "flex_flow": null,
      "grid_area": null,
      "grid_auto_columns": null,
      "grid_auto_flow": null,
      "grid_auto_rows": null,
      "grid_column": null,
      "grid_gap": null,
      "grid_row": null,
      "grid_template_areas": null,
      "grid_template_columns": null,
      "grid_template_rows": null,
      "height": null,
      "justify_content": null,
      "justify_items": null,
      "left": null,
      "margin": null,
      "max_height": null,
      "max_width": null,
      "min_height": null,
      "min_width": null,
      "object_fit": null,
      "object_position": null,
      "order": null,
      "overflow": null,
      "overflow_x": null,
      "overflow_y": null,
      "padding": null,
      "right": null,
      "top": null,
      "visibility": null,
      "width": null
     }
    },
    "996336a9f6cb48fb8f49286154b49a5f": {
     "model_module": "@jupyter-widgets/controls",
     "model_name": "HTMLModel",
     "state": {
      "_dom_classes": [],
      "_model_module": "@jupyter-widgets/controls",
      "_model_module_version": "1.5.0",
      "_model_name": "HTMLModel",
      "_view_count": null,
      "_view_module": "@jupyter-widgets/controls",
      "_view_module_version": "1.5.0",
      "_view_name": "HTMLView",
      "description": "",
      "description_tooltip": null,
      "layout": "IPY_MODEL_a453607e5ea84051871b32127777e043",
      "placeholder": "​",
      "style": "IPY_MODEL_3ae0841852c848b1b64c3c9ed687cf76",
      "value": " 123/1842 [00:07&lt;01:50, 15.57it/s]"
     }
    },
    "a453607e5ea84051871b32127777e043": {
     "model_module": "@jupyter-widgets/base",
     "model_name": "LayoutModel",
     "state": {
      "_model_module": "@jupyter-widgets/base",
      "_model_module_version": "1.2.0",
      "_model_name": "LayoutModel",
      "_view_count": null,
      "_view_module": "@jupyter-widgets/base",
      "_view_module_version": "1.2.0",
      "_view_name": "LayoutView",
      "align_content": null,
      "align_items": null,
      "align_self": null,
      "border": null,
      "bottom": null,
      "display": null,
      "flex": null,
      "flex_flow": null,
      "grid_area": null,
      "grid_auto_columns": null,
      "grid_auto_flow": null,
      "grid_auto_rows": null,
      "grid_column": null,
      "grid_gap": null,
      "grid_row": null,
      "grid_template_areas": null,
      "grid_template_columns": null,
      "grid_template_rows": null,
      "height": null,
      "justify_content": null,
      "justify_items": null,
      "left": null,
      "margin": null,
      "max_height": null,
      "max_width": null,
      "min_height": null,
      "min_width": null,
      "object_fit": null,
      "object_position": null,
      "order": null,
      "overflow": null,
      "overflow_x": null,
      "overflow_y": null,
      "padding": null,
      "right": null,
      "top": null,
      "visibility": null,
      "width": null
     }
    },
    "a8a11037ca7842a29f0766f1167d632b": {
     "model_module": "@jupyter-widgets/base",
     "model_name": "LayoutModel",
     "state": {
      "_model_module": "@jupyter-widgets/base",
      "_model_module_version": "1.2.0",
      "_model_name": "LayoutModel",
      "_view_count": null,
      "_view_module": "@jupyter-widgets/base",
      "_view_module_version": "1.2.0",
      "_view_name": "LayoutView",
      "align_content": null,
      "align_items": null,
      "align_self": null,
      "border": null,
      "bottom": null,
      "display": null,
      "flex": null,
      "flex_flow": null,
      "grid_area": null,
      "grid_auto_columns": null,
      "grid_auto_flow": null,
      "grid_auto_rows": null,
      "grid_column": null,
      "grid_gap": null,
      "grid_row": null,
      "grid_template_areas": null,
      "grid_template_columns": null,
      "grid_template_rows": null,
      "height": null,
      "justify_content": null,
      "justify_items": null,
      "left": null,
      "margin": null,
      "max_height": null,
      "max_width": null,
      "min_height": null,
      "min_width": null,
      "object_fit": null,
      "object_position": null,
      "order": null,
      "overflow": null,
      "overflow_x": null,
      "overflow_y": null,
      "padding": null,
      "right": null,
      "top": null,
      "visibility": null,
      "width": null
     }
    },
    "aa47c2ba8ef64636ba69823f3a944327": {
     "model_module": "@jupyter-widgets/controls",
     "model_name": "DescriptionStyleModel",
     "state": {
      "_model_module": "@jupyter-widgets/controls",
      "_model_module_version": "1.5.0",
      "_model_name": "DescriptionStyleModel",
      "_view_count": null,
      "_view_module": "@jupyter-widgets/base",
      "_view_module_version": "1.2.0",
      "_view_name": "StyleView",
      "description_width": ""
     }
    },
    "b638a35142a4428e8924129a4b4d51f9": {
     "model_module": "@jupyter-widgets/controls",
     "model_name": "IntProgressModel",
     "state": {
      "_dom_classes": [],
      "_model_module": "@jupyter-widgets/controls",
      "_model_module_version": "1.5.0",
      "_model_name": "IntProgressModel",
      "_view_count": null,
      "_view_module": "@jupyter-widgets/controls",
      "_view_module_version": "1.5.0",
      "_view_name": "ProgressView",
      "bar_style": "danger",
      "description": "  7%",
      "description_tooltip": null,
      "layout": "IPY_MODEL_69611115b38e4a22b15d6ebc78a6e540",
      "max": 1842,
      "min": 0,
      "orientation": "horizontal",
      "style": "IPY_MODEL_c8cae0de133d468e8870123b097e42a2",
      "value": 123
     }
    },
    "c584758deda2486db9bbafdafa48f2a2": {
     "model_module": "@jupyter-widgets/base",
     "model_name": "LayoutModel",
     "state": {
      "_model_module": "@jupyter-widgets/base",
      "_model_module_version": "1.2.0",
      "_model_name": "LayoutModel",
      "_view_count": null,
      "_view_module": "@jupyter-widgets/base",
      "_view_module_version": "1.2.0",
      "_view_name": "LayoutView",
      "align_content": null,
      "align_items": null,
      "align_self": null,
      "border": null,
      "bottom": null,
      "display": null,
      "flex": null,
      "flex_flow": null,
      "grid_area": null,
      "grid_auto_columns": null,
      "grid_auto_flow": null,
      "grid_auto_rows": null,
      "grid_column": null,
      "grid_gap": null,
      "grid_row": null,
      "grid_template_areas": null,
      "grid_template_columns": null,
      "grid_template_rows": null,
      "height": null,
      "justify_content": null,
      "justify_items": null,
      "left": null,
      "margin": null,
      "max_height": null,
      "max_width": null,
      "min_height": null,
      "min_width": null,
      "object_fit": null,
      "object_position": null,
      "order": null,
      "overflow": null,
      "overflow_x": null,
      "overflow_y": null,
      "padding": null,
      "right": null,
      "top": null,
      "visibility": null,
      "width": null
     }
    },
    "c7cf796e94d349d0b30593c127bbc7a9": {
     "model_module": "@jupyter-widgets/base",
     "model_name": "LayoutModel",
     "state": {
      "_model_module": "@jupyter-widgets/base",
      "_model_module_version": "1.2.0",
      "_model_name": "LayoutModel",
      "_view_count": null,
      "_view_module": "@jupyter-widgets/base",
      "_view_module_version": "1.2.0",
      "_view_name": "LayoutView",
      "align_content": null,
      "align_items": null,
      "align_self": null,
      "border": null,
      "bottom": null,
      "display": null,
      "flex": null,
      "flex_flow": null,
      "grid_area": null,
      "grid_auto_columns": null,
      "grid_auto_flow": null,
      "grid_auto_rows": null,
      "grid_column": null,
      "grid_gap": null,
      "grid_row": null,
      "grid_template_areas": null,
      "grid_template_columns": null,
      "grid_template_rows": null,
      "height": null,
      "justify_content": null,
      "justify_items": null,
      "left": null,
      "margin": null,
      "max_height": null,
      "max_width": null,
      "min_height": null,
      "min_width": null,
      "object_fit": null,
      "object_position": null,
      "order": null,
      "overflow": null,
      "overflow_x": null,
      "overflow_y": null,
      "padding": null,
      "right": null,
      "top": null,
      "visibility": null,
      "width": null
     }
    },
    "c8cae0de133d468e8870123b097e42a2": {
     "model_module": "@jupyter-widgets/controls",
     "model_name": "ProgressStyleModel",
     "state": {
      "_model_module": "@jupyter-widgets/controls",
      "_model_module_version": "1.5.0",
      "_model_name": "ProgressStyleModel",
      "_view_count": null,
      "_view_module": "@jupyter-widgets/base",
      "_view_module_version": "1.2.0",
      "_view_name": "StyleView",
      "bar_color": null,
      "description_width": "initial"
     }
    },
    "cb47952bb6f64e7bb2338f1ff342ad86": {
     "model_module": "@jupyter-widgets/controls",
     "model_name": "ProgressStyleModel",
     "state": {
      "_model_module": "@jupyter-widgets/controls",
      "_model_module_version": "1.5.0",
      "_model_name": "ProgressStyleModel",
      "_view_count": null,
      "_view_module": "@jupyter-widgets/base",
      "_view_module_version": "1.2.0",
      "_view_name": "StyleView",
      "bar_color": null,
      "description_width": "initial"
     }
    },
    "cdb224ddacc84b7a9855da99808a61fb": {
     "model_module": "@jupyter-widgets/controls",
     "model_name": "HTMLModel",
     "state": {
      "_dom_classes": [],
      "_model_module": "@jupyter-widgets/controls",
      "_model_module_version": "1.5.0",
      "_model_name": "HTMLModel",
      "_view_count": null,
      "_view_module": "@jupyter-widgets/controls",
      "_view_module_version": "1.5.0",
      "_view_name": "HTMLView",
      "description": "",
      "description_tooltip": null,
      "layout": "IPY_MODEL_57707f6cc3d245de9b5a1cdf206d9f82",
      "placeholder": "​",
      "style": "IPY_MODEL_352113d78fb640be8677dde16cb91fe0",
      "value": " 336666/336666 [22:28&lt;00:00, 249.61it/s]"
     }
    },
    "d7fa83d9e3714d2cb172643cc06c6016": {
     "model_module": "@jupyter-widgets/controls",
     "model_name": "DescriptionStyleModel",
     "state": {
      "_model_module": "@jupyter-widgets/controls",
      "_model_module_version": "1.5.0",
      "_model_name": "DescriptionStyleModel",
      "_view_count": null,
      "_view_module": "@jupyter-widgets/base",
      "_view_module_version": "1.2.0",
      "_view_name": "StyleView",
      "description_width": ""
     }
    },
    "db87c53df85a499bb0cfd8ca95cf850f": {
     "model_module": "@jupyter-widgets/base",
     "model_name": "LayoutModel",
     "state": {
      "_model_module": "@jupyter-widgets/base",
      "_model_module_version": "1.2.0",
      "_model_name": "LayoutModel",
      "_view_count": null,
      "_view_module": "@jupyter-widgets/base",
      "_view_module_version": "1.2.0",
      "_view_name": "LayoutView",
      "align_content": null,
      "align_items": null,
      "align_self": null,
      "border": null,
      "bottom": null,
      "display": null,
      "flex": null,
      "flex_flow": null,
      "grid_area": null,
      "grid_auto_columns": null,
      "grid_auto_flow": null,
      "grid_auto_rows": null,
      "grid_column": null,
      "grid_gap": null,
      "grid_row": null,
      "grid_template_areas": null,
      "grid_template_columns": null,
      "grid_template_rows": null,
      "height": null,
      "justify_content": null,
      "justify_items": null,
      "left": null,
      "margin": null,
      "max_height": null,
      "max_width": null,
      "min_height": null,
      "min_width": null,
      "object_fit": null,
      "object_position": null,
      "order": null,
      "overflow": null,
      "overflow_x": null,
      "overflow_y": null,
      "padding": null,
      "right": null,
      "top": null,
      "visibility": null,
      "width": null
     }
    },
    "e6767cabf6b546f48eed721b53e0f454": {
     "model_module": "@jupyter-widgets/controls",
     "model_name": "ProgressStyleModel",
     "state": {
      "_model_module": "@jupyter-widgets/controls",
      "_model_module_version": "1.5.0",
      "_model_name": "ProgressStyleModel",
      "_view_count": null,
      "_view_module": "@jupyter-widgets/base",
      "_view_module_version": "1.2.0",
      "_view_name": "StyleView",
      "bar_color": null,
      "description_width": "initial"
     }
    },
    "eb873449420f425b8c3a2a9413a3f6b6": {
     "model_module": "@jupyter-widgets/controls",
     "model_name": "HTMLModel",
     "state": {
      "_dom_classes": [],
      "_model_module": "@jupyter-widgets/controls",
      "_model_module_version": "1.5.0",
      "_model_name": "HTMLModel",
      "_view_count": null,
      "_view_module": "@jupyter-widgets/controls",
      "_view_module_version": "1.5.0",
      "_view_name": "HTMLView",
      "description": "",
      "description_tooltip": null,
      "layout": "IPY_MODEL_2964e0a56e4942ef8c1ce85edaa11f41",
      "placeholder": "​",
      "style": "IPY_MODEL_aa47c2ba8ef64636ba69823f3a944327",
      "value": " 26/1842 [00:01&lt;02:04, 14.62it/s]"
     }
    },
    "f165e6514fee4da6977235565c9e38d4": {
     "model_module": "@jupyter-widgets/controls",
     "model_name": "IntProgressModel",
     "state": {
      "_dom_classes": [],
      "_model_module": "@jupyter-widgets/controls",
      "_model_module_version": "1.5.0",
      "_model_name": "IntProgressModel",
      "_view_count": null,
      "_view_module": "@jupyter-widgets/controls",
      "_view_module_version": "1.5.0",
      "_view_name": "ProgressView",
      "bar_style": "success",
      "description": "100%",
      "description_tooltip": null,
      "layout": "IPY_MODEL_c7cf796e94d349d0b30593c127bbc7a9",
      "max": 336666,
      "min": 0,
      "orientation": "horizontal",
      "style": "IPY_MODEL_cb47952bb6f64e7bb2338f1ff342ad86",
      "value": 336666
     }
    }
   }
  }
 },
 "nbformat": 4,
 "nbformat_minor": 4
}
