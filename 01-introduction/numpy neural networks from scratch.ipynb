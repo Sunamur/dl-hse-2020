{
 "cells": [
  {
   "cell_type": "markdown",
   "metadata": {},
   "source": [
    "# Numpy-based Neural Network engine from scratch\n",
    "\n",
    "[![Open In Colab](https://colab.research.google.com/assets/colab-badge.svg)](https://colab.research.google.com/github/m12sl/dl-hse-2020/blob/master/01-introduction/numpy%20neural%20networks%20from%20scratch.ipynb)\n",
    "\n",
    "\n",
    "\n",
    "В этой тетрадке мы напишем собственный простенький фреймворк для создания и обучения нейронной сети.\n",
    "\n",
    "**Цели тетрадки**\n",
    "\n",
    "1. Понять, что лежит в основе DL фреймворков\n",
    "2. Разобраться с бекпропом на примере простых слоев\n",
    "3. Встретить характерные для векторизованных вычислений ошибки\n",
    "4. Вспомнить особенности операций с плавающей точкой\n",
    "5. Попробовать тестировать код сразу\n",
    "\n",
    "\n",
    "**План работы**\n",
    "\n",
    "0. Обсудить векторизацию вычислений и договориться о формате входных-выходных данных\n",
    "1. Рассмотреть как высокоуровнево устроен движок для сеток\n",
    "2. Реализовать несколько базовых слоев\n",
    "3. Натренировать простую сеть на задаче MNIST"
   ]
  },
  {
   "cell_type": "code",
   "execution_count": 2,
   "metadata": {},
   "outputs": [],
   "source": [
    "%matplotlib inline\n",
    "from collections import defaultdict\n",
    "import matplotlib.pyplot as plt\n",
    "import numpy as np\n",
    "\n",
    "from tqdm.auto import tqdm"
   ]
  },
  {
   "cell_type": "markdown",
   "metadata": {},
   "source": [
    "# Векторизация вычислений (batchification)\n",
    "\n",
    "<img src=\"https://github.com/m12sl/dl-hse-2020/raw/master/01-introduction/img/graph_vector.png\" crossorigin=\"anonymous\"/>\n",
    "\n",
    "В современных компьютерах выгодно объединять данные к которым будет применена одна и та же операция в вектора и батчи. Для вычисления длин нескольких векторов их, как правило, выгодно склеить в массив (numpy.ndarray) и применить векторизованную операцию (все numpy-операции работают с многомерными массивами).\n",
    "\n",
    "\n",
    "На практике во всех фреймворках для DL (да и для ML) работают с данными упакованными в батчи: \n",
    "многомерные массивы с размерами `[batch_size, channels, *spatial_dimensions]` -- такие массивы называются тензорами. \n",
    "\n",
    "Подразумевается, что примеры в батче независимы друг от друга и никак не влияют друг на друга (за исключением некоторых нормализаций и специальных трюков).\n",
    "\n",
    "\n",
    "<img src=\"https://github.com/m12sl/dl-hse-2020/raw/master/01-introduction/img/graph_batched.png\" crossorigin=\"anonymous\"/>\n",
    "\n",
    "\n",
    "Предлагается реализовать простой движок для обучения простых нейронных сетей (MLP, Multi Layer Perceptron).\n",
    "\n",
    "Класс для обходов вычислительного графа предлагается взять таким:"
   ]
  },
  {
   "cell_type": "code",
   "execution_count": 3,
   "metadata": {},
   "outputs": [],
   "source": [
    "class SomeNetwork:\n",
    "    def __init__(self, layers):\n",
    "        self.layers = layers\n",
    "    \n",
    "    def forward(self, input):\n",
    "        x = input\n",
    "        for layer in self.layers:\n",
    "            x = layer.forward(x)\n",
    "        return x\n",
    "    \n",
    "    def backward(self, grads):\n",
    "        for layer in self.layers[::-1]:\n",
    "            grads = layer.backward(grads)\n",
    "        return grads"
   ]
  },
  {
   "cell_type": "markdown",
   "metadata": {},
   "source": [
    "Слои -- это объекты с двумя методами (`forward`, `backward`) и конструктором (`__init__`).\n",
    "\n",
    "**Для простоты предлагается вычисление градиентов по весам и их применение объединить с backward-проходом.**\n",
    "\n",
    "Операция `Wx + b` формально имеет три входа: входной тензор $x$ и веса: $W$ и $b$. Мы разместим веса в слое, так что слой на прямом проходе будет иметь только один вход `x`, а на обратно выдавать градиенты $\\frac{\\partial L}{\\partial x}$.\n",
    "\n",
    "\n",
    "**Посмотрите внимательно на прототип слоя, вам потребуется реализовать Linear и ReLU на основе него:**"
   ]
  },
  {
   "cell_type": "code",
   "execution_count": 4,
   "metadata": {},
   "outputs": [],
   "source": [
    "# Это на самом деле identity\n",
    "class Layer:\n",
    "    def forward(self, input):\n",
    "        # store something if needed\n",
    "        return input\n",
    "    \n",
    "    def backward(self, grads):\n",
    "        # apply grads here if any\n",
    "        return grads"
   ]
  },
  {
   "cell_type": "code",
   "execution_count": 5,
   "metadata": {},
   "outputs": [],
   "source": [
    "# Сеть которая не делает ничего:\n",
    "network = SomeNetwork([Layer(), Layer()])\n",
    "\n",
    "x = np.random.random(size=(3, 5))\n",
    "output = network.forward(x)\n",
    "assert output.shape == (3, 5)\n",
    "\n",
    "y = np.ones((3, 5))\n",
    "grads = network.backward(y)\n",
    "assert grads.shape == (3, 5)"
   ]
  },
  {
   "cell_type": "markdown",
   "metadata": {},
   "source": [
    "В качестве сети возьмем самую простую: Multilayer Perceptron (MLP).\n",
    "\n",
    "<img src=\"https://github.com/m12sl/dl-hse-2020/raw/master/01-introduction/img/graph_mlp.png\" crossorigin=\"anonymous\"/>\n",
    "\n",
    "\n",
    "Нам потребуется реализовать следующие слои:\n",
    "\n",
    "```\n",
    "Linear\n",
    "Relu\n",
    "```\n",
    "\n",
    "Целевой задачей возьмем многоклассовую классификацию, мы хотим, чтобы наша сеть для каждого входного примера предсказывала распределение вероятностей $q_i$.\n",
    "\n",
    "Функция ошибки должна отражать близость распределения $q$ к известным правильным ответам. В этом нам поможет кросс-энтропийная функция ошибки (перекрестная энтропия):\n",
    "$$\n",
    "H(p, q) = - \\sum \\limits_{i} p_i \\log q_i \n",
    "$$\n",
    "\n",
    "Эта формула описывает близость между двумя распределениями вероятностей:\n",
    " - $i$ --- номер класса,\n",
    " - $p_i$ --- правильная вероятность класса (единица, еcли правильная метка i, ноль, если нет)\n",
    " - $q_i$ --- предсказанная вероятность (выход сети)."
   ]
  },
  {
   "cell_type": "markdown",
   "metadata": {},
   "source": [
    "## Linear Layer\n",
    "\n",
    "Синонимы: Linear, Dense, FullyConnected, Projection:\n",
    "\n",
    "Математическое действие над вектором признаков:\n",
    "$$\\mathbf{y} = W \\mathbf{x} + \\mathbf{b}$$\n",
    "\n",
    "Пусть \n",
    "$\\mathbf{x} \\in \\mathbb{R}^n$\n",
    "$\\mathbf{y}\\in \\mathbb{R}^m$\n",
    "\n",
    "**Какую размерность должен иметь $W$ и $b$?**"
   ]
  },
  {
   "cell_type": "markdown",
   "metadata": {},
   "source": []
  },
  {
   "cell_type": "markdown",
   "metadata": {},
   "source": [
    "Давайте теперь реализуем векторизованный вариант слоя: `y = f(x, W, b)`\n",
    "\n",
    "```python\n",
    "x.shape == (batch_size, in_channels)\n",
    "y.shape == (batch_size, out_channels)\n",
    "```\n",
    "\n",
    "**0.5 балла** Напишите код для вычисления прямого прохода и обратного в векторизованной форме.\n",
    "Шаг градиентного спуска предлагается совместить с обратным проходом.\n",
    "\n",
    "Веса $W, b$ считаем принадлежащими слою, инициализируем при создании, во время обратного прохода возвращаем градиенты только за входной тензор.\n",
    "\n",
    "**NB: нас не интересует строгое соответствие математической нотации, она годится для работы с векторами. Мы же работаем с данными собранными в батчи.**\n",
    "\n",
    "Для простоты движка важно, чтобы операции получали и возвращали данные в правильном формате. \n",
    "В данном случае -- это numpy.ndarray с размерностями `[bs, dim]`."
   ]
  },
  {
   "cell_type": "code",
   "execution_count": 103,
   "metadata": {},
   "outputs": [],
   "source": [
    "# Реализуйте линейный слой\n",
    "# y = Wx + b\n",
    "\n",
    "class Linear(Layer):\n",
    "    def __init__(self, in_channels, out_channels, learning_rate=0.1):\n",
    "        self.in_channels = in_channels\n",
    "        self.out_channels = out_channels\n",
    "        self.W = np.random.randn(in_channels, out_channels) * 0.01\n",
    "        self.b = np.zeros(out_channels)\n",
    "        self.learning_rate = learning_rate\n",
    "        # for debug purpose\n",
    "        self.grad_W = None\n",
    "        self.grad_b = None\n",
    "        self.grad = None\n",
    "    \n",
    "    def forward(self, x):\n",
    "        y = np.dot(x, self.W)+self.b\n",
    "        self.saved_input = x\n",
    "#         print(self.saved_input[0])\n",
    "        self.bs = x.shape[0]\n",
    "        return y\n",
    "    \n",
    "    def backward(self, grad):\n",
    "        grad_W = np.dot(self.saved_input.T,grad)\n",
    "        grad_b = np.sum(grad, axis=0)\n",
    "        grad = np.dot( grad, self.W.T)\n",
    "        \n",
    "        self.W = self.W - grad_W * self.learning_rate\n",
    "        self.b = self.b - grad_b * self.learning_rate\n",
    "        \n",
    "        self.saved_input=None\n",
    "        self.grad_W = grad_W\n",
    "        self.grad_b = grad_b\n",
    "        self.grad = grad\n",
    "        return grad\n",
    "\n",
    "    \n",
    "# тесты для самопроверки\n",
    "linear = Linear(5, 7)\n",
    "\n",
    "x = np.random.random(size=(3, 5))\n",
    "assert linear.forward(x).shape == (3, 7), \"Forward pass shape mistmatch\"\n",
    "\n",
    "y = np.random.random(size=(3, 7))\n",
    "grad_x = linear.backward(y)\n",
    "assert grad_x.shape == (3, 5)\n",
    "assert linear.grad_W.shape == linear.W.shape\n",
    "assert linear.grad_b.shape == linear.b.shape"
   ]
  },
  {
   "cell_type": "markdown",
   "metadata": {},
   "source": [
    "## ReLU Layer\n",
    "\n",
    "Это простая поэлементная операция, записывается как $f(x) = max(x, 0)$.\n",
    "\n",
    "**NB: активационные слои не меняют размер тензора**\n",
    "\n",
    "**0.3 балла**"
   ]
  },
  {
   "cell_type": "code",
   "execution_count": 104,
   "metadata": {},
   "outputs": [],
   "source": [
    "class ReLU(Layer):\n",
    "    def forward(self, input_):\n",
    "        self.saved =input_\n",
    "        return np.maximum(input_, 0)\n",
    "    \n",
    "    def backward(self, grad):\n",
    "        \n",
    "        return (self.saved>0).astype(int)*grad\n",
    "    \n",
    "relu = ReLU()\n",
    "x = np.random.normal(size=(3, 5))\n",
    "assert relu.forward(x).shape == (3, 5)\n",
    "assert np.all(relu.forward(x) >= 0.0)\n",
    "\n",
    "y = np.random.normal(size=(3, 5))\n",
    "grads = relu.backward(y)\n",
    "assert grads.shape == (3, 5) \n",
    "\n",
    "approx = (relu.forward(x + 1e-5) - relu.forward(x)) / 1e-5\n",
    "# print(approx)\n",
    "relu.forward(x)\n",
    "assert np.allclose(relu.backward(np.ones_like(x)), approx)"
   ]
  },
  {
   "cell_type": "code",
   "execution_count": null,
   "metadata": {},
   "outputs": [],
   "source": []
  },
  {
   "cell_type": "markdown",
   "metadata": {},
   "source": [
    "Для подсчета ошибки нам необходимы предсказания сети и правильные ответы.\n",
    "\n",
    "Для простоты подсчет ошибки и градиентов вынесены в отдельные функции вместе с вычислением вероятностей (softmax).\n",
    "\n",
    "Каждая из функций ожидает на вход логиты -- тензор с размерами `[bs, num_classes]`.\n",
    "\n",
    "`softmax_crossentropy_with_logits` возвращает одно число -- величину ошибки.\n",
    "\n",
    "`grad_softmax_crossentropy_with_logits` возвращает тензор размером `[bs, num_classes]` с градиентами по логитам.\n"
   ]
  },
  {
   "cell_type": "code",
   "execution_count": 105,
   "metadata": {},
   "outputs": [],
   "source": [
    "def softmax_crossentropy_with_logits(logits, reference_answers):\n",
    "    \"\"\"Compute crossentropy from logits[batch, n_classes] and ids of correct answers\"\"\"\n",
    "    logits_for_answers = logits[np.arange(len(logits)),reference_answers]\n",
    "    \n",
    "    xentropy = - logits_for_answers + np.log(np.sum(np.exp(logits),axis=-1))\n",
    "    \n",
    "    return xentropy.mean()\n",
    "\n",
    "def grad_softmax_crossentropy_with_logits(logits, reference_answers):\n",
    "    \"\"\"Compute crossentropy gradient from logits[batch,n_classes] and ids of correct answers\"\"\"\n",
    "    ones_for_answers = np.zeros_like(logits)\n",
    "    ones_for_answers[np.arange(len(logits)),reference_answers] = 1\n",
    "    \n",
    "    softmax = np.exp(logits) / np.exp(logits).sum(axis=-1,keepdims=True)\n",
    "    \n",
    "    return (- ones_for_answers + softmax) / logits.shape[0]"
   ]
  },
  {
   "cell_type": "markdown",
   "metadata": {},
   "source": [
    "## Data Handling\n",
    "Для работы с данными во всех фреймворках есть Dataset/Dataloader классы.\n",
    "\n",
    "Мы будем разбирать pytorch Data API отдельно, а пока предлагается воспользоваться готовым кодом:"
   ]
  },
  {
   "cell_type": "code",
   "execution_count": 106,
   "metadata": {},
   "outputs": [],
   "source": [
    "from torch.utils.data import DataLoader\n",
    "from torchvision.datasets import FashionMNIST\n",
    "\n",
    "# в FashionMNIST уже есть код, который грузит данные и читает их в PIL.Image, мы конвертируем их в вектора.\n",
    "# Непосредственно с картинками мы будем работать позже\n",
    "def transform(pil_image):\n",
    "    return np.asarray(pil_image).astype(np.float32).reshape(-1) / 255.0\n",
    "\n",
    "\n",
    "def numpy_collate_fn(batch):\n",
    "    x, y = list(zip(*batch))\n",
    "    return np.array(x).astype(np.float32), np.array(y).astype(np.int32)\n",
    "\n",
    "\n",
    "# dataset умеет выдавать отдельные семплы с метками\n",
    "train_dataset = FashionMNIST(\"./tmp\", train=True, download=True, transform=transform)\n",
    "test_dataset = FashionMNIST(\"./tmp\", train=False, download=True, transform=transform)\n",
    "# dataloader выдает целые батчи и поддерживает итерирование\n",
    "train_loader = DataLoader(train_dataset, shuffle=True, batch_size=32, collate_fn=numpy_collate_fn)\n",
    "test_loader = DataLoader(test_dataset, shuffle=True, batch_size=32, collate_fn=numpy_collate_fn)"
   ]
  },
  {
   "cell_type": "code",
   "execution_count": 107,
   "metadata": {
    "scrolled": true
   },
   "outputs": [
    {
     "name": "stdout",
     "output_type": "stream",
     "text": [
      "(784,) 9\n",
      "float32 int32\n",
      "(32, 784) (32,)\n"
     ]
    },
    {
     "data": {
      "image/png": "[encoded data removed]",
      "text/plain": [
       "<Figure size 432x432 with 4 Axes>"
      ]
     },
     "metadata": {
      "needs_background": "light"
     },
     "output_type": "display_data"
    }
   ],
   "source": [
    "# dataset возвращает отдельные семплы\n",
    "print(train_dataset[11][0].shape, train_dataset[11][1])\n",
    "\n",
    "# dataloader целые батчи\n",
    "for x, y in train_loader:\n",
    "    print(x.dtype, y.dtype)\n",
    "    print(x.shape, y.shape)\n",
    "    break\n",
    "\n",
    "plt.figure(figsize=[6,6])\n",
    "for i in range(4):\n",
    "    plt.subplot(2,2,i+1)\n",
    "    plt.title(f\"Class: {train_dataset[i][1]}\")\n",
    "    plt.imshow(train_dataset[i][0].reshape(28, 28),cmap='gray');"
   ]
  },
  {
   "cell_type": "markdown",
   "metadata": {},
   "source": [
    "## Train Loop\n",
    "\n",
    "Теперь все готово чтобы сделать сеть и проучить ее.\n",
    "Если все реализовано правильно, можно ожидать точности на валидации ~0.86+.\n",
    "\n",
    "Кросс-энтропийный лосс не слишком показательная величина, но если он должен оказаться ~0.4 на валидации."
   ]
  },
  {
   "cell_type": "code",
   "execution_count": 108,
   "metadata": {},
   "outputs": [
    {
     "data": {
      "application/vnd.jupyter.widget-view+json": {
       "model_id": "7af48fb8842e442b89519effdaf99c36",
       "version_major": 2,
       "version_minor": 0
      },
      "text/plain": [
       "HBox(children=(IntProgress(value=0, max=1875), HTML(value='')))"
      ]
     },
     "metadata": {},
     "output_type": "display_data"
    },
    {
     "data": {
      "application/vnd.jupyter.widget-view+json": {
       "model_id": "8dd0e22716c14938880e538a273a16ec",
       "version_major": 2,
       "version_minor": 0
      },
      "text/plain": [
       "HBox(children=(IntProgress(value=0, max=313), HTML(value='')))"
      ]
     },
     "metadata": {},
     "output_type": "display_data"
    },
    {
     "name": "stdout",
     "output_type": "stream",
     "text": [
      "loss 0.5065506872001109\n",
      "acc 0.8178913738019169\n"
     ]
    },
    {
     "data": {
      "application/vnd.jupyter.widget-view+json": {
       "model_id": "a0e9b1c6337843129ac39fdfc0c48e4b",
       "version_major": 2,
       "version_minor": 0
      },
      "text/plain": [
       "HBox(children=(IntProgress(value=0, max=1875), HTML(value='')))"
      ]
     },
     "metadata": {},
     "output_type": "display_data"
    },
    {
     "data": {
      "application/vnd.jupyter.widget-view+json": {
       "model_id": "2fb9e6e1ab944908b82f2b6c9b960e8c",
       "version_major": 2,
       "version_minor": 0
      },
      "text/plain": [
       "HBox(children=(IntProgress(value=0, max=313), HTML(value='')))"
      ]
     },
     "metadata": {},
     "output_type": "display_data"
    },
    {
     "name": "stdout",
     "output_type": "stream",
     "text": [
      "loss 0.4316469308876094\n",
      "acc 0.8436501597444089\n"
     ]
    },
    {
     "data": {
      "application/vnd.jupyter.widget-view+json": {
       "model_id": "f0cd9621bbe04c75ad790d6a4b96027c",
       "version_major": 2,
       "version_minor": 0
      },
      "text/plain": [
       "HBox(children=(IntProgress(value=0, max=1875), HTML(value='')))"
      ]
     },
     "metadata": {},
     "output_type": "display_data"
    },
    {
     "data": {
      "application/vnd.jupyter.widget-view+json": {
       "model_id": "4a233d48ad664cde9d3ec6c8276432bd",
       "version_major": 2,
       "version_minor": 0
      },
      "text/plain": [
       "HBox(children=(IntProgress(value=0, max=313), HTML(value='')))"
      ]
     },
     "metadata": {},
     "output_type": "display_data"
    },
    {
     "name": "stdout",
     "output_type": "stream",
     "text": [
      "loss 0.4125559449193015\n",
      "acc 0.8483426517571885\n"
     ]
    },
    {
     "data": {
      "application/vnd.jupyter.widget-view+json": {
       "model_id": "e10993d335994fbe9591a6d69af82dde",
       "version_major": 2,
       "version_minor": 0
      },
      "text/plain": [
       "HBox(children=(IntProgress(value=0, max=1875), HTML(value='')))"
      ]
     },
     "metadata": {},
     "output_type": "display_data"
    },
    {
     "data": {
      "application/vnd.jupyter.widget-view+json": {
       "model_id": "2f7e464e6af04f798a05ff01aaaafb95",
       "version_major": 2,
       "version_minor": 0
      },
      "text/plain": [
       "HBox(children=(IntProgress(value=0, max=313), HTML(value='')))"
      ]
     },
     "metadata": {},
     "output_type": "display_data"
    },
    {
     "name": "stdout",
     "output_type": "stream",
     "text": [
      "loss 0.3826618878532309\n",
      "acc 0.8644169329073482\n"
     ]
    },
    {
     "data": {
      "application/vnd.jupyter.widget-view+json": {
       "model_id": "9ab0589865a44a2aa486314142a1da2f",
       "version_major": 2,
       "version_minor": 0
      },
      "text/plain": [
       "HBox(children=(IntProgress(value=0, max=1875), HTML(value='')))"
      ]
     },
     "metadata": {},
     "output_type": "display_data"
    },
    {
     "data": {
      "application/vnd.jupyter.widget-view+json": {
       "model_id": "85232e3ddf6745b9a7ec76f99204d39b",
       "version_major": 2,
       "version_minor": 0
      },
      "text/plain": [
       "HBox(children=(IntProgress(value=0, max=313), HTML(value='')))"
      ]
     },
     "metadata": {},
     "output_type": "display_data"
    },
    {
     "name": "stdout",
     "output_type": "stream",
     "text": [
      "loss 0.39585698809374475\n",
      "acc 0.854632587859425\n"
     ]
    },
    {
     "data": {
      "application/vnd.jupyter.widget-view+json": {
       "model_id": "cbe0c799808d4fb09d42bf2d42e2017b",
       "version_major": 2,
       "version_minor": 0
      },
      "text/plain": [
       "HBox(children=(IntProgress(value=0, max=1875), HTML(value='')))"
      ]
     },
     "metadata": {},
     "output_type": "display_data"
    },
    {
     "data": {
      "application/vnd.jupyter.widget-view+json": {
       "model_id": "9e9c214822c246c29f3ce5c468be17c4",
       "version_major": 2,
       "version_minor": 0
      },
      "text/plain": [
       "HBox(children=(IntProgress(value=0, max=313), HTML(value='')))"
      ]
     },
     "metadata": {},
     "output_type": "display_data"
    },
    {
     "name": "stdout",
     "output_type": "stream",
     "text": [
      "loss 0.3618654849283156\n",
      "acc 0.8710063897763578\n"
     ]
    },
    {
     "data": {
      "application/vnd.jupyter.widget-view+json": {
       "model_id": "1e9b6499f2ea461691220d80e128ecf1",
       "version_major": 2,
       "version_minor": 0
      },
      "text/plain": [
       "HBox(children=(IntProgress(value=0, max=1875), HTML(value='')))"
      ]
     },
     "metadata": {},
     "output_type": "display_data"
    },
    {
     "data": {
      "application/vnd.jupyter.widget-view+json": {
       "model_id": "b94a05332bd74aada35e1dd291ac6601",
       "version_major": 2,
       "version_minor": 0
      },
      "text/plain": [
       "HBox(children=(IntProgress(value=0, max=313), HTML(value='')))"
      ]
     },
     "metadata": {},
     "output_type": "display_data"
    },
    {
     "name": "stdout",
     "output_type": "stream",
     "text": [
      "loss 0.3964211105069014\n",
      "acc 0.8556309904153354\n"
     ]
    },
    {
     "data": {
      "application/vnd.jupyter.widget-view+json": {
       "model_id": "261c014412f5414ca7b1e42efe3107b2",
       "version_major": 2,
       "version_minor": 0
      },
      "text/plain": [
       "HBox(children=(IntProgress(value=0, max=1875), HTML(value='')))"
      ]
     },
     "metadata": {},
     "output_type": "display_data"
    },
    {
     "data": {
      "application/vnd.jupyter.widget-view+json": {
       "model_id": "1e524d947ea94ff481bece2dcebdb08a",
       "version_major": 2,
       "version_minor": 0
      },
      "text/plain": [
       "HBox(children=(IntProgress(value=0, max=313), HTML(value='')))"
      ]
     },
     "metadata": {},
     "output_type": "display_data"
    },
    {
     "name": "stdout",
     "output_type": "stream",
     "text": [
      "loss 0.355100857318516\n",
      "acc 0.869408945686901\n"
     ]
    },
    {
     "data": {
      "application/vnd.jupyter.widget-view+json": {
       "model_id": "364f38e8f8e342bdb8ab4378e5c967a3",
       "version_major": 2,
       "version_minor": 0
      },
      "text/plain": [
       "HBox(children=(IntProgress(value=0, max=1875), HTML(value='')))"
      ]
     },
     "metadata": {},
     "output_type": "display_data"
    },
    {
     "data": {
      "application/vnd.jupyter.widget-view+json": {
       "model_id": "04b0de63604e43bc98f0f4a1eec49428",
       "version_major": 2,
       "version_minor": 0
      },
      "text/plain": [
       "HBox(children=(IntProgress(value=0, max=313), HTML(value='')))"
      ]
     },
     "metadata": {},
     "output_type": "display_data"
    },
    {
     "name": "stdout",
     "output_type": "stream",
     "text": [
      "loss 0.34926660065747267\n",
      "acc 0.8739017571884984\n"
     ]
    },
    {
     "data": {
      "application/vnd.jupyter.widget-view+json": {
       "model_id": "fe7fa86163b24be29c7431e9d950c803",
       "version_major": 2,
       "version_minor": 0
      },
      "text/plain": [
       "HBox(children=(IntProgress(value=0, max=1875), HTML(value='')))"
      ]
     },
     "metadata": {},
     "output_type": "display_data"
    },
    {
     "data": {
      "application/vnd.jupyter.widget-view+json": {
       "model_id": "2242762dc750470b805e536683bd454a",
       "version_major": 2,
       "version_minor": 0
      },
      "text/plain": [
       "HBox(children=(IntProgress(value=0, max=313), HTML(value='')))"
      ]
     },
     "metadata": {},
     "output_type": "display_data"
    },
    {
     "name": "stdout",
     "output_type": "stream",
     "text": [
      "loss 0.3364668140304671\n",
      "acc 0.8795926517571885\n"
     ]
    },
    {
     "data": {
      "application/vnd.jupyter.widget-view+json": {
       "model_id": "b7bea9917aa44c48b097b2220a2286fc",
       "version_major": 2,
       "version_minor": 0
      },
      "text/plain": [
       "HBox(children=(IntProgress(value=0, max=1875), HTML(value='')))"
      ]
     },
     "metadata": {},
     "output_type": "display_data"
    },
    {
     "data": {
      "application/vnd.jupyter.widget-view+json": {
       "model_id": "a9f0e898d1c24a3a80910c7f1a6573a7",
       "version_major": 2,
       "version_minor": 0
      },
      "text/plain": [
       "HBox(children=(IntProgress(value=0, max=313), HTML(value='')))"
      ]
     },
     "metadata": {},
     "output_type": "display_data"
    },
    {
     "name": "stdout",
     "output_type": "stream",
     "text": [
      "loss 0.35202455913710906\n",
      "acc 0.8705071884984026\n"
     ]
    },
    {
     "data": {
      "application/vnd.jupyter.widget-view+json": {
       "model_id": "f5aaa0bc98bc4ac8973e64aea0430414",
       "version_major": 2,
       "version_minor": 0
      },
      "text/plain": [
       "HBox(children=(IntProgress(value=0, max=1875), HTML(value='')))"
      ]
     },
     "metadata": {},
     "output_type": "display_data"
    },
    {
     "data": {
      "application/vnd.jupyter.widget-view+json": {
       "model_id": "ee7f02bc8fef4281831aabdf3740164e",
       "version_major": 2,
       "version_minor": 0
      },
      "text/plain": [
       "HBox(children=(IntProgress(value=0, max=313), HTML(value='')))"
      ]
     },
     "metadata": {},
     "output_type": "display_data"
    },
    {
     "name": "stdout",
     "output_type": "stream",
     "text": [
      "loss 0.3565709444375521\n",
      "acc 0.8698083067092651\n"
     ]
    },
    {
     "data": {
      "application/vnd.jupyter.widget-view+json": {
       "model_id": "8257115485ba4a73a150814a76731ad8",
       "version_major": 2,
       "version_minor": 0
      },
      "text/plain": [
       "HBox(children=(IntProgress(value=0, max=1875), HTML(value='')))"
      ]
     },
     "metadata": {},
     "output_type": "display_data"
    },
    {
     "data": {
      "application/vnd.jupyter.widget-view+json": {
       "model_id": "32d7281bf7844df792b5ef108a2361d7",
       "version_major": 2,
       "version_minor": 0
      },
      "text/plain": [
       "HBox(children=(IntProgress(value=0, max=313), HTML(value='')))"
      ]
     },
     "metadata": {},
     "output_type": "display_data"
    },
    {
     "name": "stdout",
     "output_type": "stream",
     "text": [
      "loss 0.3678399105428448\n",
      "acc 0.8707068690095847\n"
     ]
    },
    {
     "data": {
      "application/vnd.jupyter.widget-view+json": {
       "model_id": "1964e1dbd091414b8d2d7e4b77fbb3cf",
       "version_major": 2,
       "version_minor": 0
      },
      "text/plain": [
       "HBox(children=(IntProgress(value=0, max=1875), HTML(value='')))"
      ]
     },
     "metadata": {},
     "output_type": "display_data"
    },
    {
     "data": {
      "application/vnd.jupyter.widget-view+json": {
       "model_id": "162f648f891c4f80b186ee65d350bc48",
       "version_major": 2,
       "version_minor": 0
      },
      "text/plain": [
       "HBox(children=(IntProgress(value=0, max=313), HTML(value='')))"
      ]
     },
     "metadata": {},
     "output_type": "display_data"
    },
    {
     "name": "stdout",
     "output_type": "stream",
     "text": [
      "loss 0.33113216759550995\n",
      "acc 0.8831869009584664\n"
     ]
    },
    {
     "data": {
      "application/vnd.jupyter.widget-view+json": {
       "model_id": "f63d86e3e1bb4ee3933a559711607e98",
       "version_major": 2,
       "version_minor": 0
      },
      "text/plain": [
       "HBox(children=(IntProgress(value=0, max=1875), HTML(value='')))"
      ]
     },
     "metadata": {},
     "output_type": "display_data"
    },
    {
     "data": {
      "application/vnd.jupyter.widget-view+json": {
       "model_id": "2633f0829bc5474081f977d054fee705",
       "version_major": 2,
       "version_minor": 0
      },
      "text/plain": [
       "HBox(children=(IntProgress(value=0, max=313), HTML(value='')))"
      ]
     },
     "metadata": {},
     "output_type": "display_data"
    },
    {
     "name": "stdout",
     "output_type": "stream",
     "text": [
      "loss 0.3517091862483386\n",
      "acc 0.8763977635782748\n"
     ]
    },
    {
     "data": {
      "application/vnd.jupyter.widget-view+json": {
       "model_id": "7a16d35f19304714a8e93be56d02cf3b",
       "version_major": 2,
       "version_minor": 0
      },
      "text/plain": [
       "HBox(children=(IntProgress(value=0, max=1875), HTML(value='')))"
      ]
     },
     "metadata": {},
     "output_type": "display_data"
    },
    {
     "data": {
      "application/vnd.jupyter.widget-view+json": {
       "model_id": "bfb8ba294aec423e9f49ef366a54ac45",
       "version_major": 2,
       "version_minor": 0
      },
      "text/plain": [
       "HBox(children=(IntProgress(value=0, max=313), HTML(value='')))"
      ]
     },
     "metadata": {},
     "output_type": "display_data"
    },
    {
     "name": "stdout",
     "output_type": "stream",
     "text": [
      "loss 0.3395721352358629\n",
      "acc 0.880491214057508\n"
     ]
    },
    {
     "data": {
      "application/vnd.jupyter.widget-view+json": {
       "model_id": "92f4e6bff1514e4193634e1d2da779ab",
       "version_major": 2,
       "version_minor": 0
      },
      "text/plain": [
       "HBox(children=(IntProgress(value=0, max=1875), HTML(value='')))"
      ]
     },
     "metadata": {},
     "output_type": "display_data"
    },
    {
     "data": {
      "application/vnd.jupyter.widget-view+json": {
       "model_id": "24049e25719542d68ad1c7ae8568a27d",
       "version_major": 2,
       "version_minor": 0
      },
      "text/plain": [
       "HBox(children=(IntProgress(value=0, max=313), HTML(value='')))"
      ]
     },
     "metadata": {},
     "output_type": "display_data"
    },
    {
     "name": "stdout",
     "output_type": "stream",
     "text": [
      "loss 0.3314014634847424\n",
      "acc 0.8890774760383386\n"
     ]
    },
    {
     "data": {
      "application/vnd.jupyter.widget-view+json": {
       "model_id": "12ac82f686c64a60b2a80393db3a2835",
       "version_major": 2,
       "version_minor": 0
      },
      "text/plain": [
       "HBox(children=(IntProgress(value=0, max=1875), HTML(value='')))"
      ]
     },
     "metadata": {},
     "output_type": "display_data"
    },
    {
     "data": {
      "application/vnd.jupyter.widget-view+json": {
       "model_id": "cbbdae70cbf648b184918578b0a8ebab",
       "version_major": 2,
       "version_minor": 0
      },
      "text/plain": [
       "HBox(children=(IntProgress(value=0, max=313), HTML(value='')))"
      ]
     },
     "metadata": {},
     "output_type": "display_data"
    },
    {
     "name": "stdout",
     "output_type": "stream",
     "text": [
      "loss 0.3400167336838464\n",
      "acc 0.8834864217252396\n"
     ]
    },
    {
     "data": {
      "application/vnd.jupyter.widget-view+json": {
       "model_id": "c3c1916365b84fd1a2f95afeae8f2dbc",
       "version_major": 2,
       "version_minor": 0
      },
      "text/plain": [
       "HBox(children=(IntProgress(value=0, max=1875), HTML(value='')))"
      ]
     },
     "metadata": {},
     "output_type": "display_data"
    },
    {
     "data": {
      "application/vnd.jupyter.widget-view+json": {
       "model_id": "4fa1a41d86de4cc698fb7a475cdc0468",
       "version_major": 2,
       "version_minor": 0
      },
      "text/plain": [
       "HBox(children=(IntProgress(value=0, max=313), HTML(value='')))"
      ]
     },
     "metadata": {},
     "output_type": "display_data"
    },
    {
     "name": "stdout",
     "output_type": "stream",
     "text": [
      "loss 0.3375782323089449\n",
      "acc 0.8876797124600639\n"
     ]
    },
    {
     "data": {
      "application/vnd.jupyter.widget-view+json": {
       "model_id": "e3d74afcfc0949ebaae4746112fe6520",
       "version_major": 2,
       "version_minor": 0
      },
      "text/plain": [
       "HBox(children=(IntProgress(value=0, max=1875), HTML(value='')))"
      ]
     },
     "metadata": {},
     "output_type": "display_data"
    },
    {
     "data": {
      "application/vnd.jupyter.widget-view+json": {
       "model_id": "9877d9978b1a415e97dd63e582c3f689",
       "version_major": 2,
       "version_minor": 0
      },
      "text/plain": [
       "HBox(children=(IntProgress(value=0, max=313), HTML(value='')))"
      ]
     },
     "metadata": {},
     "output_type": "display_data"
    },
    {
     "name": "stdout",
     "output_type": "stream",
     "text": [
      "loss 0.3447237414504165\n",
      "acc 0.882388178913738\n"
     ]
    }
   ],
   "source": [
    "network = SomeNetwork([\n",
    "    Linear(784, 100),\n",
    "    ReLU(), \n",
    "    Linear(100, 50),\n",
    "    ReLU(),\n",
    "    Linear(50, 10),\n",
    "])\n",
    "\n",
    "epochs = 20\n",
    "overall_logs=[]\n",
    "for epoch in range(epochs):\n",
    "    for x, y in tqdm(train_loader):\n",
    "        logits = network.forward(x)\n",
    "        loss = softmax_crossentropy_with_logits(logits, y)\n",
    "        acc = np.mean(np.argmax(logits, axis=-1) == y)\n",
    "        grads = grad_softmax_crossentropy_with_logits(logits, y)\n",
    "        network.backward(grads)\n",
    "        \n",
    "    logs = defaultdict(list)\n",
    "    for x, y in tqdm(test_loader):\n",
    "        logits = network.forward(x)\n",
    "        loss = softmax_crossentropy_with_logits(logits, y)\n",
    "        acc = np.mean(np.argmax(logits, axis=-1) == y)\n",
    "        logs['loss'].append(loss)\n",
    "        logs['acc'].append(acc)\n",
    "        \n",
    "    for k, v in logs.items():\n",
    "        print(k, np.mean(v))\n",
    "    overall_logs.append([epoch]+[np.mean(x) for x in logs.values()])\n",
    "    "
   ]
  },
  {
   "cell_type": "markdown",
   "metadata": {},
   "source": [
    "**0.1 балл**. Постройте графики обучения: метрики от количества шагов.\n"
   ]
  },
  {
   "cell_type": "code",
   "execution_count": 109,
   "metadata": {},
   "outputs": [
    {
     "name": "stderr",
     "output_type": "stream",
     "text": [
      "WARNING:matplotlib.legend:No handles with labels found to put in legend.\n"
     ]
    },
    {
     "data": {
      "image/png": "[encoded data removed]",
      "text/plain": [
       "<Figure size 432x288 with 2 Axes>"
      ]
     },
     "metadata": {
      "needs_background": "light"
     },
     "output_type": "display_data"
    }
   ],
   "source": [
    "fig, ax1 = plt.subplots()\n",
    "ax1.set_xlabel('Epoch')\n",
    "ax1.tick_params(axis='y', labelcolor='tab:red')\n",
    "ax1.set_ylabel('Loss', color='tab:red')  # we already handled the x-label with ax1\n",
    "ax1.plot(\n",
    "    [x[0] for x in overall_logs],\n",
    "    [x[1] for x in overall_logs],\n",
    "    color='tab:red'\n",
    ")\n",
    "ax1.tick_params(axis='y', labelcolor='tab:red')\n",
    "ax2 = ax1.twinx()  # instantiate a second axes that shares the same x-axis\n",
    "ax2.set_ylabel('Accuracy', color='tab:blue')  # we already handled the x-label with ax1\n",
    "ax2.plot(\n",
    "    [x[0] for x in overall_logs],\n",
    "    [x[2] for x in overall_logs],\n",
    "    color='tab:blue'\n",
    ")\n",
    "ax2.tick_params(axis='y', labelcolor='tab:blue')\n",
    "fig.tight_layout()  # otherwise the right y-label is slightly clipped\n",
    "plt.legend()\n",
    "plt.show()\n",
    "\n"
   ]
  },
  {
   "cell_type": "markdown",
   "metadata": {},
   "source": [
    "**0.1 балл**. Выведите пример картинок, предсказаний и правильных ответов."
   ]
  },
  {
   "cell_type": "code",
   "execution_count": 148,
   "metadata": {},
   "outputs": [
    {
     "data": {
      "image/png": "[encoded data removed]",
      "text/plain": [
       "<Figure size 1080x2448 with 32 Axes>"
      ]
     },
     "metadata": {
      "needs_background": "light"
     },
     "output_type": "display_data"
    }
   ],
   "source": [
    "\n",
    "for i in test_loader:\n",
    "    x,y = i\n",
    "    break\n",
    "logits = network.forward(x)\n",
    "ans = logits.argmax(axis=1)\n",
    "\n",
    "\n",
    "fig, ax = plt.subplots(nrows=8,ncols=4, figsize=(15,34))\n",
    "for i in range(32):\n",
    "    \n",
    "    \n",
    "    ax[i//4][i%4].imshow(x[i].reshape(28,28),cmap='gray')\n",
    "    ax[i//4][i%4].set_title(f'Correct class: {y[i]}\\nPredicted class: {ans[i]}')\n",
    "    "
   ]
  }
 ],
 "metadata": {
  "kernelspec": {
   "display_name": "CNNs",
   "language": "python",
   "name": "cnn"
  },
  "language_info": {
   "codemirror_mode": {
    "name": "ipython",
    "version": 3
   },
   "file_extension": ".py",
   "mimetype": "text/x-python",
   "name": "python",
   "nbconvert_exporter": "python",
   "pygments_lexer": "ipython3",
   "version": "3.6.7"
  }
 },
 "nbformat": 4,
 "nbformat_minor": 4
}
